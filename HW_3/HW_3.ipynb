{
 "cells": [
  {
   "cell_type": "code",
   "execution_count": 116,
   "metadata": {},
   "outputs": [
    {
     "name": "stdout",
     "output_type": "stream",
     "text": [
      "[nltk_data] Downloading package wordnet to /home/ilja/nltk_data...\n",
      "[nltk_data]   Package wordnet is already up-to-date!\n"
     ]
    }
   ],
   "source": [
    "import pandas as pd\n",
    "import re\n",
    "import numpy as np\n",
    "import matplotlib.pyplot as plt\n",
    "from nltk.corpus import stopwords\n",
    "from nltk.stem import PorterStemmer\n",
    "from sklearn.feature_extraction.text import TfidfVectorizer, CountVectorizer\n",
    "from sklearn.pipeline import Pipeline\n",
    "from sklearn.metrics import mean_squared_error\n",
    "from sklearn.model_selection import train_test_split, cross_val_score\n",
    "from sklearn.feature_selection import SelectKBest, chi2\n",
    "from sklearn.linear_model import LinearRegression, LogisticRegressionCV\n",
    "from sklearn.ensemble import RandomForestRegressor\n",
    "from sklearn.preprocessing import LabelEncoder, OneHotEncoder, StandardScaler\n",
    "from sklearn.model_selection import cross_val_score\n",
    "from sklearn.svm import SVR\n",
    "from nltk.corpus import wordnet\n",
    "from datetime import datetime, date\n",
    "import nltk\n",
    "nltk.download('wordnet')\n",
    "from nltk.stem import WordNetLemmatizer\n",
    "%matplotlib inline"
   ]
  },
  {
   "cell_type": "code",
   "execution_count": 81,
   "metadata": {},
   "outputs": [
    {
     "data": {
      "text/plain": [
       "(51815, 43)"
      ]
     },
     "execution_count": 81,
     "metadata": {},
     "output_type": "execute_result"
    }
   ],
   "source": [
    "train = pd.read_csv('train.csv')\n",
    "test = pd.read_csv('test.csv')\n",
    "train.shape"
   ]
  },
  {
   "cell_type": "code",
   "execution_count": 40,
   "metadata": {},
   "outputs": [],
   "source": [
    "train_X, valid_X = train_test_split(train, test_size=0.3, random_state=42)\n",
    "#train_X = train"
   ]
  },
  {
   "cell_type": "code",
   "execution_count": 41,
   "metadata": {},
   "outputs": [
    {
     "data": {
      "text/html": [
       "<div>\n",
       "<style scoped>\n",
       "    .dataframe tbody tr th:only-of-type {\n",
       "        vertical-align: middle;\n",
       "    }\n",
       "\n",
       "    .dataframe tbody tr th {\n",
       "        vertical-align: top;\n",
       "    }\n",
       "\n",
       "    .dataframe thead th {\n",
       "        text-align: right;\n",
       "    }\n",
       "</style>\n",
       "<table border=\"1\" class=\"dataframe\">\n",
       "  <thead>\n",
       "    <tr style=\"text-align: right;\">\n",
       "      <th></th>\n",
       "      <th>id</th>\n",
       "      <th>name</th>\n",
       "      <th>summary</th>\n",
       "      <th>space</th>\n",
       "      <th>description</th>\n",
       "      <th>experiences_offered</th>\n",
       "      <th>neighborhood_overview</th>\n",
       "      <th>notes</th>\n",
       "      <th>transit</th>\n",
       "      <th>access</th>\n",
       "    </tr>\n",
       "  </thead>\n",
       "  <tbody>\n",
       "    <tr>\n",
       "      <th>17802</th>\n",
       "      <td>20145777</td>\n",
       "      <td>Double in a friendly house</td>\n",
       "      <td>A  double bedroom  in a cozy and modern apartm...</td>\n",
       "      <td>NaN</td>\n",
       "      <td>A  double bedroom  in a cozy and modern apartm...</td>\n",
       "      <td>none</td>\n",
       "      <td>NaN</td>\n",
       "      <td>NaN</td>\n",
       "      <td>NaN</td>\n",
       "      <td>NaN</td>\n",
       "    </tr>\n",
       "    <tr>\n",
       "      <th>26668</th>\n",
       "      <td>22630537</td>\n",
       "      <td>London flat with great transport links</td>\n",
       "      <td>Light, airy and modern one bedroom flat 2 mins...</td>\n",
       "      <td>NaN</td>\n",
       "      <td>Light, airy and modern one bedroom flat 2 mins...</td>\n",
       "      <td>none</td>\n",
       "      <td>NaN</td>\n",
       "      <td>NaN</td>\n",
       "      <td>NaN</td>\n",
       "      <td>NaN</td>\n",
       "    </tr>\n",
       "    <tr>\n",
       "      <th>41498</th>\n",
       "      <td>27355619</td>\n",
       "      <td>Studio Apartments, 5 mins to Kings Cross Station!</td>\n",
       "      <td>Based in high quality student accommodation, o...</td>\n",
       "      <td>What To Expect: * 16/17m2 Studio with modern f...</td>\n",
       "      <td>Based in high quality student accommodation, o...</td>\n",
       "      <td>none</td>\n",
       "      <td>As one of Central London’s most vibrant and ne...</td>\n",
       "      <td>• Do you have free WiFi? Yes we have super fas...</td>\n",
       "      <td>You will be in an incredible position for gett...</td>\n",
       "      <td>You will enjoy your own studio, with a private...</td>\n",
       "    </tr>\n",
       "    <tr>\n",
       "      <th>20649</th>\n",
       "      <td>21011236</td>\n",
       "      <td>Big, Beautiful, Sunny, West Kensington TWIN Room</td>\n",
       "      <td>Big Beautiful, airy, West Kensington TWIN room...</td>\n",
       "      <td>This is a pretty terraced house in a great are...</td>\n",
       "      <td>Big Beautiful, airy, West Kensington TWIN room...</td>\n",
       "      <td>none</td>\n",
       "      <td>We’re in a fantastic location - close to many ...</td>\n",
       "      <td>We lay on a good breakfast that guests serve t...</td>\n",
       "      <td>NaN</td>\n",
       "      <td>The room is exclusively yours while you're her...</td>\n",
       "    </tr>\n",
       "    <tr>\n",
       "      <th>33454</th>\n",
       "      <td>24754494</td>\n",
       "      <td>Dashing 1BR in Bayswater by Sonder</td>\n",
       "      <td>At this Sonder, you'll love the chic decor, st...</td>\n",
       "      <td>Every booking is instantly confirmed. Every ca...</td>\n",
       "      <td>At this Sonder, you'll love the chic decor, st...</td>\n",
       "      <td>none</td>\n",
       "      <td>Your Sonder is in a beautiful dwelling, conver...</td>\n",
       "      <td>This Sonder does not have air conditioning, bu...</td>\n",
       "      <td>Your Sonder is located at the end of a cul-de-...</td>\n",
       "      <td>NaN</td>\n",
       "    </tr>\n",
       "  </tbody>\n",
       "</table>\n",
       "</div>"
      ],
      "text/plain": [
       "             id                                               name  \\\n",
       "17802  20145777                         Double in a friendly house   \n",
       "26668  22630537             London flat with great transport links   \n",
       "41498  27355619  Studio Apartments, 5 mins to Kings Cross Station!   \n",
       "20649  21011236   Big, Beautiful, Sunny, West Kensington TWIN Room   \n",
       "33454  24754494                 Dashing 1BR in Bayswater by Sonder   \n",
       "\n",
       "                                                 summary  \\\n",
       "17802  A  double bedroom  in a cozy and modern apartm...   \n",
       "26668  Light, airy and modern one bedroom flat 2 mins...   \n",
       "41498  Based in high quality student accommodation, o...   \n",
       "20649  Big Beautiful, airy, West Kensington TWIN room...   \n",
       "33454  At this Sonder, you'll love the chic decor, st...   \n",
       "\n",
       "                                                   space  \\\n",
       "17802                                                NaN   \n",
       "26668                                                NaN   \n",
       "41498  What To Expect: * 16/17m2 Studio with modern f...   \n",
       "20649  This is a pretty terraced house in a great are...   \n",
       "33454  Every booking is instantly confirmed. Every ca...   \n",
       "\n",
       "                                             description experiences_offered  \\\n",
       "17802  A  double bedroom  in a cozy and modern apartm...                none   \n",
       "26668  Light, airy and modern one bedroom flat 2 mins...                none   \n",
       "41498  Based in high quality student accommodation, o...                none   \n",
       "20649  Big Beautiful, airy, West Kensington TWIN room...                none   \n",
       "33454  At this Sonder, you'll love the chic decor, st...                none   \n",
       "\n",
       "                                   neighborhood_overview  \\\n",
       "17802                                                NaN   \n",
       "26668                                                NaN   \n",
       "41498  As one of Central London’s most vibrant and ne...   \n",
       "20649  We’re in a fantastic location - close to many ...   \n",
       "33454  Your Sonder is in a beautiful dwelling, conver...   \n",
       "\n",
       "                                                   notes  \\\n",
       "17802                                                NaN   \n",
       "26668                                                NaN   \n",
       "41498  • Do you have free WiFi? Yes we have super fas...   \n",
       "20649  We lay on a good breakfast that guests serve t...   \n",
       "33454  This Sonder does not have air conditioning, bu...   \n",
       "\n",
       "                                                 transit  \\\n",
       "17802                                                NaN   \n",
       "26668                                                NaN   \n",
       "41498  You will be in an incredible position for gett...   \n",
       "20649                                                NaN   \n",
       "33454  Your Sonder is located at the end of a cul-de-...   \n",
       "\n",
       "                                                  access  \n",
       "17802                                                NaN  \n",
       "26668                                                NaN  \n",
       "41498  You will enjoy your own studio, with a private...  \n",
       "20649  The room is exclusively yours while you're her...  \n",
       "33454                                                NaN  "
      ]
     },
     "execution_count": 41,
     "metadata": {},
     "output_type": "execute_result"
    }
   ],
   "source": [
    "train_X.iloc[:5, :10]"
   ]
  },
  {
   "cell_type": "code",
   "execution_count": 42,
   "metadata": {},
   "outputs": [
    {
     "data": {
      "text/html": [
       "<div>\n",
       "<style scoped>\n",
       "    .dataframe tbody tr th:only-of-type {\n",
       "        vertical-align: middle;\n",
       "    }\n",
       "\n",
       "    .dataframe tbody tr th {\n",
       "        vertical-align: top;\n",
       "    }\n",
       "\n",
       "    .dataframe thead th {\n",
       "        text-align: right;\n",
       "    }\n",
       "</style>\n",
       "<table border=\"1\" class=\"dataframe\">\n",
       "  <thead>\n",
       "    <tr style=\"text-align: right;\">\n",
       "      <th></th>\n",
       "      <th>interaction</th>\n",
       "      <th>house_rules</th>\n",
       "      <th>host_id</th>\n",
       "      <th>host_since</th>\n",
       "      <th>host_about</th>\n",
       "      <th>host_response_time</th>\n",
       "      <th>host_response_rate</th>\n",
       "      <th>host_is_superhost</th>\n",
       "      <th>host_has_profile_pic</th>\n",
       "    </tr>\n",
       "  </thead>\n",
       "  <tbody>\n",
       "    <tr>\n",
       "      <th>17802</th>\n",
       "      <td>NaN</td>\n",
       "      <td>I have a \"No shoe\" policy in the house. When m...</td>\n",
       "      <td>141917708</td>\n",
       "      <td>2017-07-22</td>\n",
       "      <td>NaN</td>\n",
       "      <td>NaN</td>\n",
       "      <td>NaN</td>\n",
       "      <td>f</td>\n",
       "      <td>t</td>\n",
       "    </tr>\n",
       "    <tr>\n",
       "      <th>26668</th>\n",
       "      <td>NaN</td>\n",
       "      <td>NaN</td>\n",
       "      <td>76064729</td>\n",
       "      <td>2016-06-06</td>\n",
       "      <td>NaN</td>\n",
       "      <td>a few days or more</td>\n",
       "      <td>40%</td>\n",
       "      <td>f</td>\n",
       "      <td>t</td>\n",
       "    </tr>\n",
       "    <tr>\n",
       "      <th>41498</th>\n",
       "      <td>Our reception can help you out with anything y...</td>\n",
       "      <td>NaN</td>\n",
       "      <td>205450683</td>\n",
       "      <td>2018-07-27</td>\n",
       "      <td>NaN</td>\n",
       "      <td>within an hour</td>\n",
       "      <td>100%</td>\n",
       "      <td>t</td>\n",
       "      <td>t</td>\n",
       "    </tr>\n",
       "    <tr>\n",
       "      <th>20649</th>\n",
       "      <td>I'm Matthew and I live here with my son Alex. ...</td>\n",
       "      <td>The room is for a maximum of two people and on...</td>\n",
       "      <td>144406049</td>\n",
       "      <td>2017-08-05</td>\n",
       "      <td>My name's Matt and I live in the house with my...</td>\n",
       "      <td>NaN</td>\n",
       "      <td>NaN</td>\n",
       "      <td>f</td>\n",
       "      <td>t</td>\n",
       "    </tr>\n",
       "    <tr>\n",
       "      <th>33454</th>\n",
       "      <td>Our concierge is available by phone, email, or...</td>\n",
       "      <td>House Rules 1. All bookings require a security...</td>\n",
       "      <td>12243051</td>\n",
       "      <td>2014-02-14</td>\n",
       "      <td>Sonder provides everything you need for an exc...</td>\n",
       "      <td>within an hour</td>\n",
       "      <td>98%</td>\n",
       "      <td>f</td>\n",
       "      <td>t</td>\n",
       "    </tr>\n",
       "  </tbody>\n",
       "</table>\n",
       "</div>"
      ],
      "text/plain": [
       "                                             interaction  \\\n",
       "17802                                                NaN   \n",
       "26668                                                NaN   \n",
       "41498  Our reception can help you out with anything y...   \n",
       "20649  I'm Matthew and I live here with my son Alex. ...   \n",
       "33454  Our concierge is available by phone, email, or...   \n",
       "\n",
       "                                             house_rules    host_id  \\\n",
       "17802  I have a \"No shoe\" policy in the house. When m...  141917708   \n",
       "26668                                                NaN   76064729   \n",
       "41498                                                NaN  205450683   \n",
       "20649  The room is for a maximum of two people and on...  144406049   \n",
       "33454  House Rules 1. All bookings require a security...   12243051   \n",
       "\n",
       "       host_since                                         host_about  \\\n",
       "17802  2017-07-22                                                NaN   \n",
       "26668  2016-06-06                                                NaN   \n",
       "41498  2018-07-27                                                NaN   \n",
       "20649  2017-08-05  My name's Matt and I live in the house with my...   \n",
       "33454  2014-02-14  Sonder provides everything you need for an exc...   \n",
       "\n",
       "       host_response_time host_response_rate host_is_superhost  \\\n",
       "17802                 NaN                NaN                 f   \n",
       "26668  a few days or more                40%                 f   \n",
       "41498      within an hour               100%                 t   \n",
       "20649                 NaN                NaN                 f   \n",
       "33454      within an hour                98%                 f   \n",
       "\n",
       "      host_has_profile_pic  \n",
       "17802                    t  \n",
       "26668                    t  \n",
       "41498                    t  \n",
       "20649                    t  \n",
       "33454                    t  "
      ]
     },
     "execution_count": 42,
     "metadata": {},
     "output_type": "execute_result"
    }
   ],
   "source": [
    "train_X.iloc[:5, 10:19]"
   ]
  },
  {
   "cell_type": "code",
   "execution_count": 43,
   "metadata": {},
   "outputs": [
    {
     "data": {
      "text/html": [
       "<div>\n",
       "<style scoped>\n",
       "    .dataframe tbody tr th:only-of-type {\n",
       "        vertical-align: middle;\n",
       "    }\n",
       "\n",
       "    .dataframe tbody tr th {\n",
       "        vertical-align: top;\n",
       "    }\n",
       "\n",
       "    .dataframe thead th {\n",
       "        text-align: right;\n",
       "    }\n",
       "</style>\n",
       "<table border=\"1\" class=\"dataframe\">\n",
       "  <thead>\n",
       "    <tr style=\"text-align: right;\">\n",
       "      <th></th>\n",
       "      <th>host_identity_verified</th>\n",
       "      <th>neighbourhood_cleansed</th>\n",
       "      <th>zipcode</th>\n",
       "      <th>latitude</th>\n",
       "      <th>longitude</th>\n",
       "      <th>is_location_exact</th>\n",
       "      <th>property_type</th>\n",
       "      <th>room_type</th>\n",
       "      <th>accommodates</th>\n",
       "      <th>bathrooms</th>\n",
       "    </tr>\n",
       "  </thead>\n",
       "  <tbody>\n",
       "    <tr>\n",
       "      <th>17802</th>\n",
       "      <td>f</td>\n",
       "      <td>Hackney</td>\n",
       "      <td>E8 2NN</td>\n",
       "      <td>51.550560</td>\n",
       "      <td>-0.073584</td>\n",
       "      <td>f</td>\n",
       "      <td>Apartment</td>\n",
       "      <td>Private room</td>\n",
       "      <td>2</td>\n",
       "      <td>1.0</td>\n",
       "    </tr>\n",
       "    <tr>\n",
       "      <th>26668</th>\n",
       "      <td>f</td>\n",
       "      <td>Wandsworth</td>\n",
       "      <td>SW11 2HQ</td>\n",
       "      <td>51.463721</td>\n",
       "      <td>-0.174834</td>\n",
       "      <td>f</td>\n",
       "      <td>Apartment</td>\n",
       "      <td>Entire home/apt</td>\n",
       "      <td>4</td>\n",
       "      <td>1.0</td>\n",
       "    </tr>\n",
       "    <tr>\n",
       "      <th>41498</th>\n",
       "      <td>f</td>\n",
       "      <td>Islington</td>\n",
       "      <td>WC1X 9AX</td>\n",
       "      <td>51.529753</td>\n",
       "      <td>-0.115655</td>\n",
       "      <td>t</td>\n",
       "      <td>Serviced apartment</td>\n",
       "      <td>Entire home/apt</td>\n",
       "      <td>2</td>\n",
       "      <td>1.0</td>\n",
       "    </tr>\n",
       "    <tr>\n",
       "      <th>20649</th>\n",
       "      <td>f</td>\n",
       "      <td>Hammersmith and Fulham</td>\n",
       "      <td>W14 9PS</td>\n",
       "      <td>51.485577</td>\n",
       "      <td>-0.206449</td>\n",
       "      <td>t</td>\n",
       "      <td>Townhouse</td>\n",
       "      <td>Private room</td>\n",
       "      <td>2</td>\n",
       "      <td>1.0</td>\n",
       "    </tr>\n",
       "    <tr>\n",
       "      <th>33454</th>\n",
       "      <td>f</td>\n",
       "      <td>Westminster</td>\n",
       "      <td>W23JQ</td>\n",
       "      <td>51.512930</td>\n",
       "      <td>-0.186348</td>\n",
       "      <td>t</td>\n",
       "      <td>Apartment</td>\n",
       "      <td>Entire home/apt</td>\n",
       "      <td>2</td>\n",
       "      <td>1.0</td>\n",
       "    </tr>\n",
       "  </tbody>\n",
       "</table>\n",
       "</div>"
      ],
      "text/plain": [
       "      host_identity_verified  neighbourhood_cleansed   zipcode   latitude  \\\n",
       "17802                      f                 Hackney    E8 2NN  51.550560   \n",
       "26668                      f              Wandsworth  SW11 2HQ  51.463721   \n",
       "41498                      f               Islington  WC1X 9AX  51.529753   \n",
       "20649                      f  Hammersmith and Fulham   W14 9PS  51.485577   \n",
       "33454                      f             Westminster     W23JQ  51.512930   \n",
       "\n",
       "       longitude is_location_exact       property_type        room_type  \\\n",
       "17802  -0.073584                 f           Apartment     Private room   \n",
       "26668  -0.174834                 f           Apartment  Entire home/apt   \n",
       "41498  -0.115655                 t  Serviced apartment  Entire home/apt   \n",
       "20649  -0.206449                 t           Townhouse     Private room   \n",
       "33454  -0.186348                 t           Apartment  Entire home/apt   \n",
       "\n",
       "       accommodates  bathrooms  \n",
       "17802             2        1.0  \n",
       "26668             4        1.0  \n",
       "41498             2        1.0  \n",
       "20649             2        1.0  \n",
       "33454             2        1.0  "
      ]
     },
     "execution_count": 43,
     "metadata": {},
     "output_type": "execute_result"
    }
   ],
   "source": [
    "train_X.iloc[:5, 19:29]"
   ]
  },
  {
   "cell_type": "code",
   "execution_count": 44,
   "metadata": {},
   "outputs": [
    {
     "data": {
      "text/html": [
       "<div>\n",
       "<style scoped>\n",
       "    .dataframe tbody tr th:only-of-type {\n",
       "        vertical-align: middle;\n",
       "    }\n",
       "\n",
       "    .dataframe tbody tr th {\n",
       "        vertical-align: top;\n",
       "    }\n",
       "\n",
       "    .dataframe thead th {\n",
       "        text-align: right;\n",
       "    }\n",
       "</style>\n",
       "<table border=\"1\" class=\"dataframe\">\n",
       "  <thead>\n",
       "    <tr style=\"text-align: right;\">\n",
       "      <th></th>\n",
       "      <th>bedrooms</th>\n",
       "      <th>beds</th>\n",
       "      <th>bed_type</th>\n",
       "      <th>amenities</th>\n",
       "      <th>square_feet</th>\n",
       "      <th>security_deposit</th>\n",
       "      <th>cleaning_fee</th>\n",
       "      <th>guests_included</th>\n",
       "      <th>extra_people</th>\n",
       "    </tr>\n",
       "  </thead>\n",
       "  <tbody>\n",
       "    <tr>\n",
       "      <th>17802</th>\n",
       "      <td>1.0</td>\n",
       "      <td>1.0</td>\n",
       "      <td>Real Bed</td>\n",
       "      <td>{TV,Wifi,Kitchen,\"Buzzer/wireless intercom\",He...</td>\n",
       "      <td>NaN</td>\n",
       "      <td>NaN</td>\n",
       "      <td>NaN</td>\n",
       "      <td>1</td>\n",
       "      <td>0.0</td>\n",
       "    </tr>\n",
       "    <tr>\n",
       "      <th>26668</th>\n",
       "      <td>1.0</td>\n",
       "      <td>1.0</td>\n",
       "      <td>Real Bed</td>\n",
       "      <td>{TV,\"Cable TV\",Wifi,Kitchen,\"Pets allowed\",Bre...</td>\n",
       "      <td>NaN</td>\n",
       "      <td>NaN</td>\n",
       "      <td>25.0</td>\n",
       "      <td>2</td>\n",
       "      <td>20.0</td>\n",
       "    </tr>\n",
       "    <tr>\n",
       "      <th>41498</th>\n",
       "      <td>0.0</td>\n",
       "      <td>1.0</td>\n",
       "      <td>Real Bed</td>\n",
       "      <td>{TV,Wifi,Kitchen,Elevator,Heating,Washer,Dryer...</td>\n",
       "      <td>NaN</td>\n",
       "      <td>80.0</td>\n",
       "      <td>45.0</td>\n",
       "      <td>1</td>\n",
       "      <td>0.0</td>\n",
       "    </tr>\n",
       "    <tr>\n",
       "      <th>20649</th>\n",
       "      <td>1.0</td>\n",
       "      <td>2.0</td>\n",
       "      <td>Real Bed</td>\n",
       "      <td>{TV,Wifi,Kitchen,\"Paid parking off premises\",B...</td>\n",
       "      <td>NaN</td>\n",
       "      <td>NaN</td>\n",
       "      <td>12.0</td>\n",
       "      <td>1</td>\n",
       "      <td>11.0</td>\n",
       "    </tr>\n",
       "    <tr>\n",
       "      <th>33454</th>\n",
       "      <td>1.0</td>\n",
       "      <td>1.0</td>\n",
       "      <td>Real Bed</td>\n",
       "      <td>{TV,\"Cable TV\",Wifi,Kitchen,Heating,Washer,Dry...</td>\n",
       "      <td>NaN</td>\n",
       "      <td>300.0</td>\n",
       "      <td>63.0</td>\n",
       "      <td>2</td>\n",
       "      <td>5.0</td>\n",
       "    </tr>\n",
       "  </tbody>\n",
       "</table>\n",
       "</div>"
      ],
      "text/plain": [
       "       bedrooms  beds  bed_type  \\\n",
       "17802       1.0   1.0  Real Bed   \n",
       "26668       1.0   1.0  Real Bed   \n",
       "41498       0.0   1.0  Real Bed   \n",
       "20649       1.0   2.0  Real Bed   \n",
       "33454       1.0   1.0  Real Bed   \n",
       "\n",
       "                                               amenities  square_feet  \\\n",
       "17802  {TV,Wifi,Kitchen,\"Buzzer/wireless intercom\",He...          NaN   \n",
       "26668  {TV,\"Cable TV\",Wifi,Kitchen,\"Pets allowed\",Bre...          NaN   \n",
       "41498  {TV,Wifi,Kitchen,Elevator,Heating,Washer,Dryer...          NaN   \n",
       "20649  {TV,Wifi,Kitchen,\"Paid parking off premises\",B...          NaN   \n",
       "33454  {TV,\"Cable TV\",Wifi,Kitchen,Heating,Washer,Dry...          NaN   \n",
       "\n",
       "       security_deposit  cleaning_fee  guests_included  extra_people  \n",
       "17802               NaN           NaN                1           0.0  \n",
       "26668               NaN          25.0                2          20.0  \n",
       "41498              80.0          45.0                1           0.0  \n",
       "20649               NaN          12.0                1          11.0  \n",
       "33454             300.0          63.0                2           5.0  "
      ]
     },
     "execution_count": 44,
     "metadata": {},
     "output_type": "execute_result"
    }
   ],
   "source": [
    "train_X.iloc[:5, 29:38]"
   ]
  },
  {
   "cell_type": "code",
   "execution_count": 45,
   "metadata": {},
   "outputs": [
    {
     "data": {
      "text/html": [
       "<div>\n",
       "<style scoped>\n",
       "    .dataframe tbody tr th:only-of-type {\n",
       "        vertical-align: middle;\n",
       "    }\n",
       "\n",
       "    .dataframe tbody tr th {\n",
       "        vertical-align: top;\n",
       "    }\n",
       "\n",
       "    .dataframe thead th {\n",
       "        text-align: right;\n",
       "    }\n",
       "</style>\n",
       "<table border=\"1\" class=\"dataframe\">\n",
       "  <thead>\n",
       "    <tr style=\"text-align: right;\">\n",
       "      <th></th>\n",
       "      <th>minimum_nights</th>\n",
       "      <th>cancellation_policy</th>\n",
       "      <th>require_guest_profile_picture</th>\n",
       "      <th>require_guest_phone_verification</th>\n",
       "      <th>price</th>\n",
       "    </tr>\n",
       "  </thead>\n",
       "  <tbody>\n",
       "    <tr>\n",
       "      <th>17802</th>\n",
       "      <td>1</td>\n",
       "      <td>flexible</td>\n",
       "      <td>f</td>\n",
       "      <td>f</td>\n",
       "      <td>90.0</td>\n",
       "    </tr>\n",
       "    <tr>\n",
       "      <th>26668</th>\n",
       "      <td>1</td>\n",
       "      <td>moderate</td>\n",
       "      <td>f</td>\n",
       "      <td>f</td>\n",
       "      <td>75.0</td>\n",
       "    </tr>\n",
       "    <tr>\n",
       "      <th>41498</th>\n",
       "      <td>3</td>\n",
       "      <td>flexible</td>\n",
       "      <td>f</td>\n",
       "      <td>f</td>\n",
       "      <td>89.0</td>\n",
       "    </tr>\n",
       "    <tr>\n",
       "      <th>20649</th>\n",
       "      <td>1</td>\n",
       "      <td>moderate</td>\n",
       "      <td>f</td>\n",
       "      <td>f</td>\n",
       "      <td>60.0</td>\n",
       "    </tr>\n",
       "    <tr>\n",
       "      <th>33454</th>\n",
       "      <td>2</td>\n",
       "      <td>strict_14_with_grace_period</td>\n",
       "      <td>f</td>\n",
       "      <td>f</td>\n",
       "      <td>169.0</td>\n",
       "    </tr>\n",
       "  </tbody>\n",
       "</table>\n",
       "</div>"
      ],
      "text/plain": [
       "       minimum_nights          cancellation_policy  \\\n",
       "17802               1                     flexible   \n",
       "26668               1                     moderate   \n",
       "41498               3                     flexible   \n",
       "20649               1                     moderate   \n",
       "33454               2  strict_14_with_grace_period   \n",
       "\n",
       "      require_guest_profile_picture require_guest_phone_verification  price  \n",
       "17802                             f                                f   90.0  \n",
       "26668                             f                                f   75.0  \n",
       "41498                             f                                f   89.0  \n",
       "20649                             f                                f   60.0  \n",
       "33454                             f                                f  169.0  "
      ]
     },
     "execution_count": 45,
     "metadata": {},
     "output_type": "execute_result"
    }
   ],
   "source": [
    "train_X.iloc[:5, 38:]"
   ]
  },
  {
   "cell_type": "code",
   "execution_count": 46,
   "metadata": {},
   "outputs": [
    {
     "data": {
      "text/plain": [
       "id                                      0\n",
       "name                                    4\n",
       "summary                              1264\n",
       "space                               12918\n",
       "description                           721\n",
       "experiences_offered                     0\n",
       "neighborhood_overview               15101\n",
       "notes                               22652\n",
       "transit                             15413\n",
       "access                              16399\n",
       "interaction                         17277\n",
       "house_rules                         16585\n",
       "host_id                                 0\n",
       "host_since                              6\n",
       "host_about                          16537\n",
       "host_response_time                  14507\n",
       "host_response_rate                  14508\n",
       "host_is_superhost                       6\n",
       "host_has_profile_pic                    6\n",
       "host_identity_verified                  6\n",
       "neighbourhood_cleansed                  0\n",
       "zipcode                              1020\n",
       "latitude                                0\n",
       "longitude                               0\n",
       "is_location_exact                       0\n",
       "property_type                           0\n",
       "room_type                               0\n",
       "accommodates                            0\n",
       "bathrooms                               1\n",
       "bedrooms                               15\n",
       "beds                                   50\n",
       "bed_type                                0\n",
       "amenities                               0\n",
       "square_feet                         36258\n",
       "security_deposit                    12545\n",
       "cleaning_fee                         9404\n",
       "guests_included                         0\n",
       "extra_people                            0\n",
       "minimum_nights                          0\n",
       "cancellation_policy                     0\n",
       "require_guest_profile_picture           0\n",
       "require_guest_phone_verification        0\n",
       "price                                   0\n",
       "dtype: int64"
      ]
     },
     "execution_count": 46,
     "metadata": {},
     "output_type": "execute_result"
    }
   ],
   "source": [
    "train_X.isna().sum()"
   ]
  },
  {
   "cell_type": "code",
   "execution_count": 47,
   "metadata": {},
   "outputs": [
    {
     "data": {
      "text/plain": [
       "Entire home/apt    20776\n",
       "Private room       15129\n",
       "Shared room          365\n",
       "Name: room_type, dtype: int64"
      ]
     },
     "execution_count": 47,
     "metadata": {},
     "output_type": "execute_result"
    }
   ],
   "source": [
    "train_X.room_type.value_counts(dropna=False)"
   ]
  },
  {
   "cell_type": "code",
   "execution_count": null,
   "metadata": {},
   "outputs": [],
   "source": []
  },
  {
   "cell_type": "code",
   "execution_count": 48,
   "metadata": {},
   "outputs": [],
   "source": [
    "long_text_cols = ['name', 'summary', 'space', 'description', 'neighborhood_overview', 'notes', 'transit',\n",
    "                 'access', 'interaction', 'house_rules', 'host_about', 'amenities']\n",
    "categoric_cols = ['host_response_time', 'property_type', 'bed_type', 'cancellation_policy',\n",
    "                  'host_is_superhost', 'host_has_profile_pic', 'host_identity_verified',\n",
    "              'is_location_exact','require_guest_profile_picture', 'require_guest_phone_verification', 'room_type']\n",
    "number_cols = ['latitude', 'longitude', 'accommodates', 'bathrooms',\n",
    "              'bedrooms', 'beds', 'guests_included', 'extra_people',\n",
    "              'minimum_nights']\n",
    "special_cols = ['host_since', 'place_price', 'security_deposit', 'cleaning_fee']"
   ]
  },
  {
   "cell_type": "code",
   "execution_count": 49,
   "metadata": {},
   "outputs": [],
   "source": [
    "agg_place = train_X.groupby('neighbourhood_cleansed')['price'].mean().reset_index()\n",
    "agg_place.rename({'price': 'place_price'}, axis=1, inplace=True)"
   ]
  },
  {
   "cell_type": "code",
   "execution_count": 50,
   "metadata": {},
   "outputs": [],
   "source": [
    "num_col_medians = dict()\n",
    "for col in number_cols:\n",
    "    num_col_medians[col] = train[col].median()"
   ]
  },
  {
   "cell_type": "code",
   "execution_count": 91,
   "metadata": {},
   "outputs": [],
   "source": [
    "encoder = OneHotEncoder(handle_unknown='ignore')\n",
    "for col in categoric_cols:\n",
    "    train[col].fillna('None', inplace=True)\n",
    "encoder.fit(train[categoric_cols]);"
   ]
  },
  {
   "cell_type": "code",
   "execution_count": 92,
   "metadata": {},
   "outputs": [],
   "source": [
    "def features_transform(df):\n",
    "    new_df = df.copy()\n",
    "    new_df.host_since.fillna('2018-01-01', inplace=True)\n",
    "    new_df['host_since'] = new_df.host_since.apply(lambda s: (date.today() - datetime.strptime(s, '%Y-%m-%d').date()).days // 30)\n",
    "    new_df = new_df.merge(agg_place, how='left', on='neighbourhood_cleansed')\n",
    "    new_df.place_price.fillna(115, inplace=True)\n",
    "    new_df.security_deposit.fillna(0, inplace=True)\n",
    "    new_df.cleaning_fee.fillna(0, inplace=True)\n",
    "    new_df.drop(['experiences_offered', 'host_id', 'host_response_rate', 'neighbourhood_cleansed',\n",
    "               'zipcode', 'square_feet'], axis=1, inplace=True)\n",
    "    for col in number_cols:\n",
    "        new_df[col].fillna(num_col_medians[col], inplace=True)\n",
    "    for col in categoric_cols:\n",
    "        new_df[col].fillna('None', inplace=True)\n",
    "    df_dumm = pd.DataFrame(encoder.transform(new_df[categoric_cols]).toarray(), columns=encoder.get_feature_names())\n",
    "    new_df = pd.concat([new_df, df_dumm], axis=1)\n",
    "    return new_df"
   ]
  },
  {
   "cell_type": "code",
   "execution_count": 93,
   "metadata": {},
   "outputs": [],
   "source": [
    "X_train_num = features_transform(train_X).drop(long_text_cols + categoric_cols + ['price'], axis=1)\n",
    "X_valid_num = features_transform(train_X).drop(long_text_cols + categoric_cols + ['price'], axis=1)"
   ]
  },
  {
   "cell_type": "code",
   "execution_count": 94,
   "metadata": {},
   "outputs": [],
   "source": [
    "X_test_num = features_transform(test).drop(long_text_cols + categoric_cols, axis=1)"
   ]
  },
  {
   "cell_type": "code",
   "execution_count": 72,
   "metadata": {},
   "outputs": [],
   "source": [
    "pipeline = Pipeline([('liner', StandardScaler()),\n",
    "                     ('clf', LinearRegression())])\n",
    "forest = RandomForestRegressor(n_estimators=50)"
   ]
  },
  {
   "cell_type": "code",
   "execution_count": 73,
   "metadata": {},
   "outputs": [],
   "source": [
    "cvs = cross_val_score(forest, X_train_num, train_X.price, cv=3, scoring='neg_mean_squared_error')"
   ]
  },
  {
   "cell_type": "code",
   "execution_count": 74,
   "metadata": {},
   "outputs": [
    {
     "data": {
      "text/plain": [
       "array([-26854.63350263, -30801.29442031, -25779.33867811])"
      ]
     },
     "execution_count": 74,
     "metadata": {},
     "output_type": "execute_result"
    }
   ],
   "source": [
    "cvs"
   ]
  },
  {
   "cell_type": "code",
   "execution_count": 77,
   "metadata": {},
   "outputs": [
    {
     "data": {
      "text/plain": [
       "RandomForestRegressor(bootstrap=True, criterion='mse', max_depth=None,\n",
       "           max_features='auto', max_leaf_nodes=None,\n",
       "           min_impurity_decrease=0.0, min_impurity_split=None,\n",
       "           min_samples_leaf=1, min_samples_split=2,\n",
       "           min_weight_fraction_leaf=0.0, n_estimators=50, n_jobs=None,\n",
       "           oob_score=False, random_state=None, verbose=0, warm_start=False)"
      ]
     },
     "execution_count": 77,
     "metadata": {},
     "output_type": "execute_result"
    }
   ],
   "source": [
    "forest.fit(X_train_num, train_X.price)"
   ]
  },
  {
   "cell_type": "code",
   "execution_count": null,
   "metadata": {},
   "outputs": [],
   "source": [
    "forest.feature_importances_ture_importances_ture_importances_"
   ]
  },
  {
   "cell_type": "code",
   "execution_count": 95,
   "metadata": {},
   "outputs": [],
   "source": [
    "X_test_num['price'] = forest.predict(X_test_num.drop('id', axis=1))"
   ]
  },
  {
   "cell_type": "code",
   "execution_count": null,
   "metadata": {},
   "outputs": [],
   "source": []
  },
  {
   "cell_type": "code",
   "execution_count": null,
   "metadata": {},
   "outputs": [],
   "source": []
  },
  {
   "cell_type": "code",
   "execution_count": null,
   "metadata": {},
   "outputs": [],
   "source": []
  },
  {
   "cell_type": "code",
   "execution_count": null,
   "metadata": {},
   "outputs": [],
   "source": []
  },
  {
   "cell_type": "code",
   "execution_count": null,
   "metadata": {},
   "outputs": [],
   "source": []
  },
  {
   "cell_type": "code",
   "execution_count": 98,
   "metadata": {},
   "outputs": [],
   "source": [
    "for col in long_text_cols:\n",
    "    train_X[col].fillna('', inplace=True)\n",
    "    valid_X[col].fillna('', inplace=True)\n",
    "    test[col].fillna('', inplace=True)"
   ]
  },
  {
   "cell_type": "code",
   "execution_count": 99,
   "metadata": {},
   "outputs": [],
   "source": [
    "train_X['all_text'] = train_X[long_text_cols].apply(lambda s: ' '.join(s), axis=1)\n",
    "valid_X['all_text'] = valid_X[long_text_cols].apply(lambda s: ' '.join(s), axis=1)\n",
    "test['all_text'] = test[long_text_cols].apply(lambda s: ' '.join(s), axis=1)"
   ]
  },
  {
   "cell_type": "code",
   "execution_count": 100,
   "metadata": {},
   "outputs": [],
   "source": [
    "stemmer = PorterStemmer()\n",
    "train_X['cleaned'] = train_X['all_text'].apply(lambda x: \" \".join(re.sub(\"[^a-zA-Z']\", \" \", x).split()).lower())\n",
    "#new_train['cleaned'] = new_train['cleaned'].apply(lambda s: \" \".join([lemmatizer.lemmatize(w, get_wordnet_pos(w)) for w in nltk.word_tokenize(s)]))\n",
    "#new_train['cleaned'] = new_train['cleaned'].apply(lambda x: \" \".join([i for i in x.split() if i not in words]))\n",
    "#new_train['cleaned'] = new_train['cleaned'].apply(lambda x: \" \".join([stemmer.stem(i) for i in x.split()]))"
   ]
  },
  {
   "cell_type": "code",
   "execution_count": 101,
   "metadata": {},
   "outputs": [],
   "source": [
    "valid_X['cleaned'] = valid_X['all_text'].apply(lambda x: \" \".join(re.sub(\"[^a-zA-Z']\", \" \", x).split()).lower())\n",
    "# valid_X['cleaned'] = valid_X['cleaned'].apply(lambda s: s.replace('!', ' ! '))\n",
    "# valid_X['cleaned'] = valid_X['cleaned'].apply(lambda s: s.replace('?', ' ? '))\n",
    "#valid_X['cleaned'] = valid_X['cleaned'].apply(lambda s: \" \".join([lemmatizer.lemmatize(w, get_wordnet_pos(w)) for w in nltk.word_tokenize(s)]))\n",
    "#valid_X['cleaned'] = valid_X['cleaned'].apply(lambda x: \" \".join([i for i in x.split() if i not in words]))\n",
    "#valid_X['cleaned'] = valid_X['cleaned'].apply(lambda x: \" \".join([stemmer.stem(i) for i in x.split()]))"
   ]
  },
  {
   "cell_type": "code",
   "execution_count": 102,
   "metadata": {},
   "outputs": [],
   "source": [
    "test['cleaned'] = test['all_text'].apply(lambda x: \" \".join(re.sub(\"[^a-zA-Z']\", \" \", x).split()).lower())\n",
    "# test['cleaned'] = test['cleaned'].apply(lambda s: s.replace('!', ' ! '))\n",
    "# test['cleaned'] = test['cleaned'].apply(lambda s: s.replace('?', ' ? '))\n",
    "#test['cleaned'] = test['cleaned'].apply(lambda s: \" \".join([lemmatizer.lemmatize(w, get_wordnet_pos(w)) for w in nltk.word_tokenize(s)]))\n",
    "#test['cleaned'] = test['cleaned'].apply(lambda x: \" \".join([i for i in x.split() if i not in words]))\n",
    "#test['cleaned'] = test['cleaned'].apply(lambda x: \" \".join([stemmer.stem(i) for i in x.split()]))"
   ]
  },
  {
   "cell_type": "code",
   "execution_count": 122,
   "metadata": {},
   "outputs": [
    {
     "data": {
      "text/plain": [
       "Pipeline(memory=None,\n",
       "     steps=[('vect', TfidfVectorizer(analyzer='word', binary=False, decode_error='strict',\n",
       "        dtype=<class 'numpy.float64'>, encoding='utf-8', input='content',\n",
       "        lowercase=True, max_df=0.5, max_features=None, min_df=3,\n",
       "        ngram_range=(1, 1), norm='l2', preprocessor=None, smooth_idf=True,\n",
       "..., ('clf', LinearRegression(copy_X=True, fit_intercept=True, n_jobs=None,\n",
       "         normalize=False))])"
      ]
     },
     "execution_count": 122,
     "metadata": {},
     "output_type": "execute_result"
    }
   ],
   "source": [
    "vectorizer = TfidfVectorizer(stop_words=None, min_df=3, max_df=0.5)\n",
    "pipeline = Pipeline([('vect', vectorizer),\n",
    "#                     ('chi',  SelectKBest(chi2, k=all)),\n",
    "                     ('clf', LinearRegression())])\n",
    "pipeline.fit(train_X.loc[:10000, 'cleaned'], train_X.loc[:10000, 'price'])"
   ]
  },
  {
   "cell_type": "code",
   "execution_count": 120,
   "metadata": {},
   "outputs": [
    {
     "data": {
      "text/plain": [
       "4272254.6398827685"
      ]
     },
     "execution_count": 120,
     "metadata": {},
     "output_type": "execute_result"
    }
   ],
   "source": [
    "pred = pipeline.predict(valid_X.cleaned)\n",
    "mean_squared_error(valid_X.price, pred)"
   ]
  },
  {
   "cell_type": "code",
   "execution_count": 113,
   "metadata": {},
   "outputs": [
    {
     "name": "stderr",
     "output_type": "stream",
     "text": [
      "/usr/local/lib/python3.5/dist-packages/sklearn/feature_extraction/text.py:1547: UserWarning: Only (<class 'numpy.float64'>, <class 'numpy.float32'>, <class 'numpy.float16'>) 'dtype' should be used. float32 'dtype' will be converted to np.float64.\n",
      "  UserWarning)\n",
      "/usr/local/lib/python3.5/dist-packages/sklearn/feature_extraction/text.py:1547: UserWarning: Only (<class 'numpy.float64'>, <class 'numpy.float32'>, <class 'numpy.float16'>) 'dtype' should be used. float32 'dtype' will be converted to np.float64.\n",
      "  UserWarning)\n",
      "/usr/local/lib/python3.5/dist-packages/sklearn/feature_extraction/text.py:1547: UserWarning: Only (<class 'numpy.float64'>, <class 'numpy.float32'>, <class 'numpy.float16'>) 'dtype' should be used. float32 'dtype' will be converted to np.float64.\n",
      "  UserWarning)\n"
     ]
    }
   ],
   "source": [
    "cvs_str = cross_val_score(pipeline, train_X.cleaned[:1000], train_X.price[:1000], cv=3, scoring='neg_mean_squared_error')"
   ]
  },
  {
   "cell_type": "code",
   "execution_count": 114,
   "metadata": {},
   "outputs": [
    {
     "data": {
      "text/plain": [
       "array([-16650.45646743, -12689.16104487, -10815.21336694])"
      ]
     },
     "execution_count": 114,
     "metadata": {},
     "output_type": "execute_result"
    }
   ],
   "source": [
    "cvs_str"
   ]
  },
  {
   "cell_type": "code",
   "execution_count": 97,
   "metadata": {},
   "outputs": [],
   "source": [
    "X_test_num[['id', 'price']].to_csv('answer_1.csv', index=False)"
   ]
  },
  {
   "cell_type": "code",
   "execution_count": null,
   "metadata": {},
   "outputs": [],
   "source": []
  }
 ],
 "metadata": {
  "kernelspec": {
   "display_name": "Python 3",
   "language": "python",
   "name": "python3"
  },
  "language_info": {
   "codemirror_mode": {
    "name": "ipython",
    "version": 3
   },
   "file_extension": ".py",
   "mimetype": "text/x-python",
   "name": "python",
   "nbconvert_exporter": "python",
   "pygments_lexer": "ipython3",
   "version": "3.5.2"
  }
 },
 "nbformat": 4,
 "nbformat_minor": 2
}
