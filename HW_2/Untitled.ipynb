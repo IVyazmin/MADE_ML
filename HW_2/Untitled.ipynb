{
 "cells": [
  {
   "cell_type": "code",
   "execution_count": 1,
   "metadata": {},
   "outputs": [
    {
     "name": "stdout",
     "output_type": "stream",
     "text": [
      "[nltk_data] Downloading package wordnet to /home/ilja/nltk_data...\n",
      "[nltk_data]   Package wordnet is already up-to-date!\n"
     ]
    }
   ],
   "source": [
    "import pandas as pd\n",
    "import re\n",
    "import numpy as np\n",
    "import matplotlib.pyplot as plt\n",
    "from nltk.corpus import stopwords\n",
    "from nltk.stem import PorterStemmer\n",
    "from sklearn.feature_extraction.text import TfidfVectorizer, CountVectorizer\n",
    "from sklearn.pipeline import Pipeline\n",
    "from sklearn.metrics import classification_report, confusion_matrix, f1_score\n",
    "from sklearn.model_selection import train_test_split, cross_val_score\n",
    "from sklearn.feature_selection import SelectKBest, chi2\n",
    "from sklearn.linear_model import LogisticRegression, LogisticRegressionCV\n",
    "from sklearn.ensemble import RandomForestClassifier\n",
    "from sklearn.preprocessing import LabelEncoder\n",
    "from sklearn.svm import SVC\n",
    "from nltk.corpus import wordnet\n",
    "import nltk\n",
    "nltk.download('wordnet')\n",
    "from nltk.stem import WordNetLemmatizer\n",
    "%matplotlib inline"
   ]
  },
  {
   "cell_type": "code",
   "execution_count": 2,
   "metadata": {},
   "outputs": [],
   "source": [
    "train = pd.read_csv('train.csv')\n",
    "test = pd.read_csv('test.csv')\n",
    "sample = pd.read_csv('sample_submission_most_popular.csv')"
   ]
  },
  {
   "cell_type": "code",
   "execution_count": 3,
   "metadata": {},
   "outputs": [
    {
     "data": {
      "text/html": [
       "<div>\n",
       "<style scoped>\n",
       "    .dataframe tbody tr th:only-of-type {\n",
       "        vertical-align: middle;\n",
       "    }\n",
       "\n",
       "    .dataframe tbody tr th {\n",
       "        vertical-align: top;\n",
       "    }\n",
       "\n",
       "    .dataframe thead th {\n",
       "        text-align: right;\n",
       "    }\n",
       "</style>\n",
       "<table border=\"1\" class=\"dataframe\">\n",
       "  <thead>\n",
       "    <tr style=\"text-align: right;\">\n",
       "      <th></th>\n",
       "      <th>dialogue</th>\n",
       "      <th>genres</th>\n",
       "    </tr>\n",
       "  </thead>\n",
       "  <tbody>\n",
       "    <tr>\n",
       "      <th>0</th>\n",
       "      <td>I thought you were in a meeting--? &lt;BR&gt; I am. ...</td>\n",
       "      <td>[u'drama', u'romance']</td>\n",
       "    </tr>\n",
       "    <tr>\n",
       "      <th>1</th>\n",
       "      <td>Are you sure you're okay?  You're pale. &lt;BR&gt; I...</td>\n",
       "      <td>[u'drama']</td>\n",
       "    </tr>\n",
       "    <tr>\n",
       "      <th>2</th>\n",
       "      <td>Go on! Get out! &lt;BR&gt; Mom look don't say anythi...</td>\n",
       "      <td>[u'comedy']</td>\n",
       "    </tr>\n",
       "    <tr>\n",
       "      <th>3</th>\n",
       "      <td>I could have lost my fucking hands. &lt;BR&gt; That ...</td>\n",
       "      <td>[u'mystery', u'thriller']</td>\n",
       "    </tr>\n",
       "    <tr>\n",
       "      <th>4</th>\n",
       "      <td>Stick with me on this Gloria.  I need you... &lt;...</td>\n",
       "      <td>[u'crime', u'thriller']</td>\n",
       "    </tr>\n",
       "  </tbody>\n",
       "</table>\n",
       "</div>"
      ],
      "text/plain": [
       "                                            dialogue  \\\n",
       "0  I thought you were in a meeting--? <BR> I am. ...   \n",
       "1  Are you sure you're okay?  You're pale. <BR> I...   \n",
       "2  Go on! Get out! <BR> Mom look don't say anythi...   \n",
       "3  I could have lost my fucking hands. <BR> That ...   \n",
       "4  Stick with me on this Gloria.  I need you... <...   \n",
       "\n",
       "                      genres  \n",
       "0     [u'drama', u'romance']  \n",
       "1                 [u'drama']  \n",
       "2                [u'comedy']  \n",
       "3  [u'mystery', u'thriller']  \n",
       "4    [u'crime', u'thriller']  "
      ]
     },
     "execution_count": 3,
     "metadata": {},
     "output_type": "execute_result"
    }
   ],
   "source": [
    "train = train[['dialogue', 'genres']]\n",
    "train.head()"
   ]
  },
  {
   "cell_type": "code",
   "execution_count": 4,
   "metadata": {},
   "outputs": [],
   "source": [
    "train_X, valid_X = train_test_split(train, test_size=0.3, random_state=42)\n",
    "#train_X = train"
   ]
  },
  {
   "cell_type": "code",
   "execution_count": 5,
   "metadata": {},
   "outputs": [],
   "source": [
    "new_train = []\n",
    "for item in train_X.iterrows():\n",
    "    genres = item[1].genres[1:-1].split(', ')\n",
    "    genres = [s[2:-1] for s in genres]\n",
    "    for genre in genres:\n",
    "        copy_item = item[1].copy()\n",
    "        copy_item.genres = genre\n",
    "        new_train.append(copy_item)\n",
    "new_train = pd.DataFrame(new_train).reset_index(drop=True)"
   ]
  },
  {
   "cell_type": "code",
   "execution_count": 6,
   "metadata": {},
   "outputs": [
    {
     "data": {
      "text/html": [
       "<div>\n",
       "<style scoped>\n",
       "    .dataframe tbody tr th:only-of-type {\n",
       "        vertical-align: middle;\n",
       "    }\n",
       "\n",
       "    .dataframe tbody tr th {\n",
       "        vertical-align: top;\n",
       "    }\n",
       "\n",
       "    .dataframe thead th {\n",
       "        text-align: right;\n",
       "    }\n",
       "</style>\n",
       "<table border=\"1\" class=\"dataframe\">\n",
       "  <thead>\n",
       "    <tr style=\"text-align: right;\">\n",
       "      <th></th>\n",
       "      <th>dialogue</th>\n",
       "      <th>genres</th>\n",
       "    </tr>\n",
       "  </thead>\n",
       "  <tbody>\n",
       "    <tr>\n",
       "      <th>0</th>\n",
       "      <td>You can't stop me from seeing her Mrs. Robinso...</td>\n",
       "      <td>comedy</td>\n",
       "    </tr>\n",
       "    <tr>\n",
       "      <th>1</th>\n",
       "      <td>You can't stop me from seeing her Mrs. Robinso...</td>\n",
       "      <td>romance</td>\n",
       "    </tr>\n",
       "    <tr>\n",
       "      <th>2</th>\n",
       "      <td>I can't believe I just did that. &lt;BR&gt; Do you t...</td>\n",
       "      <td>horror</td>\n",
       "    </tr>\n",
       "    <tr>\n",
       "      <th>3</th>\n",
       "      <td>I can't believe I just did that. &lt;BR&gt; Do you t...</td>\n",
       "      <td>thriller</td>\n",
       "    </tr>\n",
       "    <tr>\n",
       "      <th>4</th>\n",
       "      <td>No part of it wasn't real. &lt;BR&gt; I know.  And n...</td>\n",
       "      <td>drama</td>\n",
       "    </tr>\n",
       "  </tbody>\n",
       "</table>\n",
       "</div>"
      ],
      "text/plain": [
       "                                            dialogue    genres\n",
       "0  You can't stop me from seeing her Mrs. Robinso...    comedy\n",
       "1  You can't stop me from seeing her Mrs. Robinso...   romance\n",
       "2  I can't believe I just did that. <BR> Do you t...    horror\n",
       "3  I can't believe I just did that. <BR> Do you t...  thriller\n",
       "4  No part of it wasn't real. <BR> I know.  And n...     drama"
      ]
     },
     "execution_count": 6,
     "metadata": {},
     "output_type": "execute_result"
    }
   ],
   "source": [
    "new_train.head()"
   ]
  },
  {
   "cell_type": "code",
   "execution_count": 7,
   "metadata": {},
   "outputs": [
    {
     "data": {
      "image/png": "[encoded data removed]",
      "text/plain": [
       "<Figure size 432x288 with 1 Axes>"
      ]
     },
     "metadata": {
      "needs_background": "light"
     },
     "output_type": "display_data"
    }
   ],
   "source": [
    "counts = new_train['genres'].value_counts()\n",
    "plt.bar(height=counts, x=counts.index)\n",
    "plt.xticks(rotation=90);"
   ]
  },
  {
   "cell_type": "code",
   "execution_count": 8,
   "metadata": {},
   "outputs": [
    {
     "data": {
      "text/plain": [
       "drama        12617\n",
       "thriller      8898\n",
       "comedy        5253\n",
       "action        4267\n",
       "crime         3764\n",
       "romance       3627\n",
       "sci-fi        2212\n",
       "mystery       1907\n",
       "adventure     1879\n",
       "horror         829\n",
       "fantasy        641\n",
       "biography      574\n",
       "war            395\n",
       "music          180\n",
       "western        134\n",
       "history        126\n",
       "family         101\n",
       "sport           78\n",
       "animation       36\n",
       "musical         30\n",
       "Name: genres, dtype: int64"
      ]
     },
     "execution_count": 8,
     "metadata": {},
     "output_type": "execute_result"
    }
   ],
   "source": [
    "counts"
   ]
  },
  {
   "cell_type": "code",
   "execution_count": 248,
   "metadata": {},
   "outputs": [],
   "source": [
    "counts_dict = {}\n",
    "for i in range(len(counts)):\n",
    "    counts_dict[counts.index[i]] = min(12644 // counts[i], 2)"
   ]
  },
  {
   "cell_type": "code",
   "execution_count": 10,
   "metadata": {},
   "outputs": [],
   "source": [
    "le = LabelEncoder()\n",
    "new_train.genres = le.fit_transform(new_train.genres)"
   ]
  },
  {
   "cell_type": "code",
   "execution_count": 11,
   "metadata": {},
   "outputs": [
    {
     "data": {
      "text/plain": [
       "array(['action', 'adventure', 'animation', 'biography', 'comedy', 'crime',\n",
       "       'drama', 'family', 'fantasy', 'history', 'horror', 'music',\n",
       "       'musical', 'mystery', 'romance', 'sci-fi', 'sport', 'thriller',\n",
       "       'war', 'western'], dtype=object)"
      ]
     },
     "execution_count": 11,
     "metadata": {},
     "output_type": "execute_result"
    }
   ],
   "source": [
    "le.classes_"
   ]
  },
  {
   "cell_type": "code",
   "execution_count": 12,
   "metadata": {},
   "outputs": [
    {
     "ename": "NameError",
     "evalue": "name 'counts_dict' is not defined",
     "output_type": "error",
     "traceback": [
      "\u001b[0;31m---------------------------------------------------------------------------\u001b[0m",
      "\u001b[0;31mNameError\u001b[0m                                 Traceback (most recent call last)",
      "\u001b[0;32m<ipython-input-12-69995bfe93fa>\u001b[0m in \u001b[0;36m<module>\u001b[0;34m\u001b[0m\n\u001b[0;32m----> 1\u001b[0;31m \u001b[0mcounts_dict\u001b[0m\u001b[0;34m\u001b[0m\u001b[0m\n\u001b[0m",
      "\u001b[0;31mNameError\u001b[0m: name 'counts_dict' is not defined"
     ]
    }
   ],
   "source": [
    "counts_dict"
   ]
  },
  {
   "cell_type": "code",
   "execution_count": 251,
   "metadata": {},
   "outputs": [],
   "source": [
    "# up_train = []\n",
    "# for i in range(len(new_train)):\n",
    "#     mult = counts_dict[new_train.iloc[i].genres]\n",
    "#     for j in range(mult):\n",
    "#         up_train.append(new_train.iloc[i])\n",
    "# up_train = pd.DataFrame(up_train).reset_index(drop=True)\n",
    "# trell = up_train[up_train.genres == 'thriller'].sample(3000)\n",
    "# new_train = pd.concat([up_train.copy(), trell], axis=0)"
   ]
  },
  {
   "cell_type": "code",
   "execution_count": 253,
   "metadata": {},
   "outputs": [
    {
     "data": {
      "text/html": [
       "<div>\n",
       "<style scoped>\n",
       "    .dataframe tbody tr th:only-of-type {\n",
       "        vertical-align: middle;\n",
       "    }\n",
       "\n",
       "    .dataframe tbody tr th {\n",
       "        vertical-align: top;\n",
       "    }\n",
       "\n",
       "    .dataframe thead th {\n",
       "        text-align: right;\n",
       "    }\n",
       "</style>\n",
       "<table border=\"1\" class=\"dataframe\">\n",
       "  <thead>\n",
       "    <tr style=\"text-align: right;\">\n",
       "      <th></th>\n",
       "      <th>dialogue</th>\n",
       "      <th>genres</th>\n",
       "    </tr>\n",
       "  </thead>\n",
       "  <tbody>\n",
       "    <tr>\n",
       "      <th>0</th>\n",
       "      <td>You can't stop me from seeing her Mrs. Robinso...</td>\n",
       "      <td>4</td>\n",
       "    </tr>\n",
       "    <tr>\n",
       "      <th>1</th>\n",
       "      <td>You can't stop me from seeing her Mrs. Robinso...</td>\n",
       "      <td>14</td>\n",
       "    </tr>\n",
       "    <tr>\n",
       "      <th>2</th>\n",
       "      <td>I can't believe I just did that. &lt;BR&gt; Do you t...</td>\n",
       "      <td>10</td>\n",
       "    </tr>\n",
       "    <tr>\n",
       "      <th>3</th>\n",
       "      <td>I can't believe I just did that. &lt;BR&gt; Do you t...</td>\n",
       "      <td>17</td>\n",
       "    </tr>\n",
       "    <tr>\n",
       "      <th>4</th>\n",
       "      <td>No part of it wasn't real. &lt;BR&gt; I know.  And n...</td>\n",
       "      <td>6</td>\n",
       "    </tr>\n",
       "  </tbody>\n",
       "</table>\n",
       "</div>"
      ],
      "text/plain": [
       "                                            dialogue  genres\n",
       "0  You can't stop me from seeing her Mrs. Robinso...       4\n",
       "1  You can't stop me from seeing her Mrs. Robinso...      14\n",
       "2  I can't believe I just did that. <BR> Do you t...      10\n",
       "3  I can't believe I just did that. <BR> Do you t...      17\n",
       "4  No part of it wasn't real. <BR> I know.  And n...       6"
      ]
     },
     "execution_count": 253,
     "metadata": {},
     "output_type": "execute_result"
    }
   ],
   "source": [
    "new_train.head()"
   ]
  },
  {
   "cell_type": "code",
   "execution_count": 254,
   "metadata": {},
   "outputs": [],
   "source": [
    "# def get_wordnet_pos(word):\n",
    "#     \"\"\"Map POS tag to first character lemmatize() accepts\"\"\"\n",
    "#     tag = nltk.pos_tag([word])[0][1][0].upper()\n",
    "#     tag_dict = {\"J\": wordnet.ADJ,\n",
    "#                 \"N\": wordnet.NOUN,\n",
    "#                 \"V\": wordnet.VERB,\n",
    "#                 \"R\": wordnet.ADV}\n",
    "#     return tag_dict.get(tag, wordnet.NOUN)"
   ]
  },
  {
   "cell_type": "code",
   "execution_count": 255,
   "metadata": {},
   "outputs": [],
   "source": [
    "# lemmatizer = WordNetLemmatizer()"
   ]
  },
  {
   "cell_type": "code",
   "execution_count": 13,
   "metadata": {},
   "outputs": [],
   "source": [
    "for i in range(len(valid_X)):\n",
    "    genres = valid_X.iloc[i, 1][1:-1].split(', ')\n",
    "    genres = [s[2:-1] for s in genres]\n",
    "    genres = le.transform(genres)\n",
    "    valid_X.iloc[i]['genres'] = genres"
   ]
  },
  {
   "cell_type": "code",
   "execution_count": 14,
   "metadata": {},
   "outputs": [
    {
     "data": {
      "text/html": [
       "<div>\n",
       "<style scoped>\n",
       "    .dataframe tbody tr th:only-of-type {\n",
       "        vertical-align: middle;\n",
       "    }\n",
       "\n",
       "    .dataframe tbody tr th {\n",
       "        vertical-align: top;\n",
       "    }\n",
       "\n",
       "    .dataframe thead th {\n",
       "        text-align: right;\n",
       "    }\n",
       "</style>\n",
       "<table border=\"1\" class=\"dataframe\">\n",
       "  <thead>\n",
       "    <tr style=\"text-align: right;\">\n",
       "      <th></th>\n",
       "      <th>dialogue</th>\n",
       "      <th>genres</th>\n",
       "    </tr>\n",
       "  </thead>\n",
       "  <tbody>\n",
       "    <tr>\n",
       "      <th>9550</th>\n",
       "      <td>Sure you wanna do this? Might be a way they co...</td>\n",
       "      <td>[5, 17]</td>\n",
       "    </tr>\n",
       "    <tr>\n",
       "      <th>7112</th>\n",
       "      <td>he's just playing Q... &lt;BR&gt; You think for once...</td>\n",
       "      <td>[6]</td>\n",
       "    </tr>\n",
       "    <tr>\n",
       "      <th>9545</th>\n",
       "      <td>A man doesn't always know why he does things L...</td>\n",
       "      <td>[6, 10, 13, 17]</td>\n",
       "    </tr>\n",
       "    <tr>\n",
       "      <th>10261</th>\n",
       "      <td>Who isn't? &lt;BR&gt; You been followin' the news co...</td>\n",
       "      <td>[0, 5, 6, 17]</td>\n",
       "    </tr>\n",
       "    <tr>\n",
       "      <th>9876</th>\n",
       "      <td>That was a really hot house! &lt;BR&gt; So your name...</td>\n",
       "      <td>[4, 6]</td>\n",
       "    </tr>\n",
       "  </tbody>\n",
       "</table>\n",
       "</div>"
      ],
      "text/plain": [
       "                                                dialogue           genres\n",
       "9550   Sure you wanna do this? Might be a way they co...          [5, 17]\n",
       "7112   he's just playing Q... <BR> You think for once...              [6]\n",
       "9545   A man doesn't always know why he does things L...  [6, 10, 13, 17]\n",
       "10261  Who isn't? <BR> You been followin' the news co...    [0, 5, 6, 17]\n",
       "9876   That was a really hot house! <BR> So your name...           [4, 6]"
      ]
     },
     "execution_count": 14,
     "metadata": {},
     "output_type": "execute_result"
    }
   ],
   "source": [
    "valid_X.head()"
   ]
  },
  {
   "cell_type": "code",
   "execution_count": 15,
   "metadata": {},
   "outputs": [],
   "source": [
    "def f1_sc(y, pred):\n",
    "    tp = 0\n",
    "    for elem in pred:\n",
    "        if elem in y:\n",
    "            tp += 1\n",
    "    rec = tp / len(y)\n",
    "    pres = tp / len(pred)\n",
    "    if rec * pres == 0:\n",
    "        return 0\n",
    "    f = 2 * rec * pres / (rec + pres)\n",
    "    return f"
   ]
  },
  {
   "cell_type": "code",
   "execution_count": 92,
   "metadata": {},
   "outputs": [],
   "source": [
    "stemmer = PorterStemmer()\n",
    "words = stopwords.words(\"english\")\n",
    "new_train['cleaned'] = new_train['dialogue'].apply(lambda x: \" \".join(re.sub(\"[^a-zA-Z']\", \" \", x).split()).lower())\n",
    "new_train['cleaned'] = new_train['cleaned'].apply(lambda s: s.replace('<br>', ' '))\n",
    "# new_train['cleaned'] = new_train['cleaned'].apply(lambda s: s.replace('!', ' ! '))\n",
    "# new_train['cleaned'] = new_train['cleaned'].apply(lambda s: s.replace('?', ' ? '))\n",
    "#new_train['cleaned'] = new_train['cleaned'].apply(lambda s: \" \".join([lemmatizer.lemmatize(w, get_wordnet_pos(w)) for w in nltk.word_tokenize(s)]))\n",
    "#new_train['cleaned'] = new_train['cleaned'].apply(lambda x: \" \".join([i for i in x.split() if i not in words]))\n",
    "#new_train['cleaned'] = new_train['cleaned'].apply(lambda x: \" \".join([stemmer.stem(i) for i in x.split()]))"
   ]
  },
  {
   "cell_type": "code",
   "execution_count": 93,
   "metadata": {},
   "outputs": [
    {
     "name": "stderr",
     "output_type": "stream",
     "text": [
      "/usr/local/lib/python3.5/dist-packages/ipykernel_launcher.py:1: SettingWithCopyWarning: \n",
      "A value is trying to be set on a copy of a slice from a DataFrame.\n",
      "Try using .loc[row_indexer,col_indexer] = value instead\n",
      "\n",
      "See the caveats in the documentation: http://pandas.pydata.org/pandas-docs/stable/indexing.html#indexing-view-versus-copy\n",
      "  \"\"\"Entry point for launching an IPython kernel.\n",
      "/usr/local/lib/python3.5/dist-packages/ipykernel_launcher.py:2: SettingWithCopyWarning: \n",
      "A value is trying to be set on a copy of a slice from a DataFrame.\n",
      "Try using .loc[row_indexer,col_indexer] = value instead\n",
      "\n",
      "See the caveats in the documentation: http://pandas.pydata.org/pandas-docs/stable/indexing.html#indexing-view-versus-copy\n",
      "  \n"
     ]
    }
   ],
   "source": [
    "valid_X['cleaned'] = valid_X['dialogue'].apply(lambda x: \" \".join(re.sub(\"[^a-zA-Z']\", \" \", x).split()).lower())\n",
    "valid_X['cleaned'] = valid_X['cleaned'].apply(lambda s: s.replace('<br>', ' '))\n",
    "# valid_X['cleaned'] = valid_X['cleaned'].apply(lambda s: s.replace('!', ' ! '))\n",
    "# valid_X['cleaned'] = valid_X['cleaned'].apply(lambda s: s.replace('?', ' ? '))\n",
    "#valid_X['cleaned'] = valid_X['cleaned'].apply(lambda s: \" \".join([lemmatizer.lemmatize(w, get_wordnet_pos(w)) for w in nltk.word_tokenize(s)]))\n",
    "#valid_X['cleaned'] = valid_X['cleaned'].apply(lambda x: \" \".join([i for i in x.split() if i not in words]))\n",
    "#valid_X['cleaned'] = valid_X['cleaned'].apply(lambda x: \" \".join([stemmer.stem(i) for i in x.split()]))"
   ]
  },
  {
   "cell_type": "code",
   "execution_count": 94,
   "metadata": {},
   "outputs": [],
   "source": [
    "test['cleaned'] = test['dialogue'].apply(lambda x: \" \".join(re.sub(\"[^a-zA-Z']\", \" \", x).split()).lower())\n",
    "test['cleaned'] = test['cleaned'].apply(lambda s: s.replace('<br>', ' '))\n",
    "# test['cleaned'] = test['cleaned'].apply(lambda s: s.replace('!', ' ! '))\n",
    "# test['cleaned'] = test['cleaned'].apply(lambda s: s.replace('?', ' ? '))\n",
    "#test['cleaned'] = test['cleaned'].apply(lambda s: \" \".join([lemmatizer.lemmatize(w, get_wordnet_pos(w)) for w in nltk.word_tokenize(s)]))\n",
    "#test['cleaned'] = test['cleaned'].apply(lambda x: \" \".join([i for i in x.split() if i not in words]))\n",
    "#test['cleaned'] = test['cleaned'].apply(lambda x: \" \".join([stemmer.stem(i) for i in x.split()]))"
   ]
  },
  {
   "cell_type": "code",
   "execution_count": 85,
   "metadata": {},
   "outputs": [
    {
     "data": {
      "text/plain": [
       "\"Boy! Did you see the way Mama whopped that deputy with her shoe? Knocked the gun right out ... <BR> I don't want you hanging around there hear?\""
      ]
     },
     "execution_count": 85,
     "metadata": {},
     "output_type": "execute_result"
    }
   ],
   "source": [
    "test.dialogue[0]"
   ]
  },
  {
   "cell_type": "code",
   "execution_count": 86,
   "metadata": {},
   "outputs": [
    {
     "data": {
      "text/plain": [
       "\"boy !  did you see the way mama whopped that deputy with her shoe ?  knocked the gun right out br i don't want you hanging around there hear ? \""
      ]
     },
     "execution_count": 86,
     "metadata": {},
     "output_type": "execute_result"
    }
   ],
   "source": [
    "test.cleaned[0]"
   ]
  },
  {
   "cell_type": "code",
   "execution_count": 107,
   "metadata": {},
   "outputs": [
    {
     "name": "stderr",
     "output_type": "stream",
     "text": [
      "/usr/local/lib/python3.5/dist-packages/sklearn/feature_extraction/text.py:1547: UserWarning: Only (<class 'numpy.float64'>, <class 'numpy.float32'>, <class 'numpy.float16'>) 'dtype' should be used. int8 'dtype' will be converted to np.float64.\n",
      "  UserWarning)\n",
      "/usr/local/lib/python3.5/dist-packages/sklearn/linear_model/logistic.py:459: FutureWarning: Default multi_class will be changed to 'auto' in 0.22. Specify the multi_class option to silence this warning.\n",
      "  \"this warning.\", FutureWarning)\n",
      "/usr/local/lib/python3.5/dist-packages/sklearn/linear_model/logistic.py:757: ConvergenceWarning: lbfgs failed to converge. Increase the number of iterations.\n",
      "  \"of iterations.\", ConvergenceWarning)\n",
      "/usr/local/lib/python3.5/dist-packages/sklearn/linear_model/logistic.py:757: ConvergenceWarning: lbfgs failed to converge. Increase the number of iterations.\n",
      "  \"of iterations.\", ConvergenceWarning)\n",
      "/usr/local/lib/python3.5/dist-packages/sklearn/linear_model/logistic.py:757: ConvergenceWarning: lbfgs failed to converge. Increase the number of iterations.\n",
      "  \"of iterations.\", ConvergenceWarning)\n",
      "/usr/local/lib/python3.5/dist-packages/sklearn/linear_model/logistic.py:757: ConvergenceWarning: lbfgs failed to converge. Increase the number of iterations.\n",
      "  \"of iterations.\", ConvergenceWarning)\n",
      "/usr/local/lib/python3.5/dist-packages/sklearn/linear_model/logistic.py:757: ConvergenceWarning: lbfgs failed to converge. Increase the number of iterations.\n",
      "  \"of iterations.\", ConvergenceWarning)\n",
      "/usr/local/lib/python3.5/dist-packages/sklearn/linear_model/logistic.py:757: ConvergenceWarning: lbfgs failed to converge. Increase the number of iterations.\n",
      "  \"of iterations.\", ConvergenceWarning)\n",
      "/usr/local/lib/python3.5/dist-packages/sklearn/linear_model/logistic.py:757: ConvergenceWarning: lbfgs failed to converge. Increase the number of iterations.\n",
      "  \"of iterations.\", ConvergenceWarning)\n",
      "/usr/local/lib/python3.5/dist-packages/sklearn/linear_model/logistic.py:757: ConvergenceWarning: lbfgs failed to converge. Increase the number of iterations.\n",
      "  \"of iterations.\", ConvergenceWarning)\n"
     ]
    },
    {
     "data": {
      "text/plain": [
       "Pipeline(memory=None,\n",
       "     steps=[('vect', TfidfVectorizer(analyzer='word', binary=False, decode_error='strict',\n",
       "        dtype='int8', encoding='utf-8', input='content', lowercase=True,\n",
       "        max_df=0.5, max_features=None, min_df=2, ngram_range=(1, 1),\n",
       "        norm='l2', preprocessor=None, smooth_idf=True, stop_words=None,\n",
       "...enalty='l2', random_state=None, solver='lbfgs',\n",
       "          tol=0.0001, verbose=0, warm_start=False))])"
      ]
     },
     "execution_count": 107,
     "metadata": {},
     "output_type": "execute_result"
    }
   ],
   "source": [
    "vectorizer = TfidfVectorizer(stop_words=None, dtype='int8', min_df=2, max_df=0.5)\n",
    "pipeline = Pipeline([('vect', vectorizer),\n",
    "                     ('chi',  SelectKBest(chi2, k=14200)),\n",
    "                     ('clf', LogisticRegression(penalty='l2', C=3, solver='lbfgs'))])\n",
    "pipeline.fit(new_train.cleaned, new_train.genres)"
   ]
  },
  {
   "cell_type": "code",
   "execution_count": 108,
   "metadata": {},
   "outputs": [],
   "source": [
    "pred = pipeline.predict_proba(valid_X.cleaned)"
   ]
  },
  {
   "cell_type": "code",
   "execution_count": 109,
   "metadata": {},
   "outputs": [],
   "source": [
    "pred_max = np.argmax(pred, axis=1)\n",
    "result = [0] * len(pred)\n",
    "for i in range(len(pred)):\n",
    "    pred[i, pred_max[i]] = 0.5\n",
    "    result[i] = np.arange(20)[pred[i] > 0.15]"
   ]
  },
  {
   "cell_type": "code",
   "execution_count": 110,
   "metadata": {},
   "outputs": [
    {
     "name": "stdout",
     "output_type": "stream",
     "text": [
      "0.6724986197999658\n"
     ]
    }
   ],
   "source": [
    "score = 0\n",
    "for i in range(len(result)):\n",
    "    score += f1_sc(valid_X.genres.values[i], result[i])\n",
    "score = score / len(result)\n",
    "print(score)"
   ]
  },
  {
   "cell_type": "code",
   "execution_count": 90,
   "metadata": {},
   "outputs": [
    {
     "data": {
      "text/plain": [
       "0.6724986197999658"
      ]
     },
     "execution_count": 90,
     "metadata": {},
     "output_type": "execute_result"
    }
   ],
   "source": [
    "0.6724986197999658"
   ]
  },
  {
   "cell_type": "code",
   "execution_count": 111,
   "metadata": {},
   "outputs": [
    {
     "name": "stderr",
     "output_type": "stream",
     "text": [
      "/usr/local/lib/python3.5/dist-packages/ipykernel_launcher.py:5: SettingWithCopyWarning: \n",
      "A value is trying to be set on a copy of a slice from a DataFrame.\n",
      "Try using .loc[row_indexer,col_indexer] = value instead\n",
      "\n",
      "See the caveats in the documentation: http://pandas.pydata.org/pandas-docs/stable/indexing.html#indexing-view-versus-copy\n",
      "  \"\"\"\n",
      "/usr/local/lib/python3.5/dist-packages/ipykernel_launcher.py:6: SettingWithCopyWarning: \n",
      "A value is trying to be set on a copy of a slice from a DataFrame.\n",
      "Try using .loc[row_indexer,col_indexer] = value instead\n",
      "\n",
      "See the caveats in the documentation: http://pandas.pydata.org/pandas-docs/stable/indexing.html#indexing-view-versus-copy\n",
      "  \n"
     ]
    }
   ],
   "source": [
    "score = [0] * len(result)\n",
    "for i in range(len(result)):\n",
    "    score[i] = f1_sc(valid_X.genres.values[i], result[i])\n",
    "#score = score / len(result)\n",
    "valid_X['score'] = score\n",
    "valid_X['pred'] = result"
   ]
  },
  {
   "cell_type": "code",
   "execution_count": 112,
   "metadata": {},
   "outputs": [
    {
     "data": {
      "text/plain": [
       "'thriller'"
      ]
     },
     "execution_count": 112,
     "metadata": {},
     "output_type": "execute_result"
    }
   ],
   "source": [
    "le.classes_[17]"
   ]
  },
  {
   "cell_type": "code",
   "execution_count": 113,
   "metadata": {},
   "outputs": [
    {
     "data": {
      "text/html": [
       "<div>\n",
       "<style scoped>\n",
       "    .dataframe tbody tr th:only-of-type {\n",
       "        vertical-align: middle;\n",
       "    }\n",
       "\n",
       "    .dataframe tbody tr th {\n",
       "        vertical-align: top;\n",
       "    }\n",
       "\n",
       "    .dataframe thead th {\n",
       "        text-align: right;\n",
       "    }\n",
       "</style>\n",
       "<table border=\"1\" class=\"dataframe\">\n",
       "  <thead>\n",
       "    <tr style=\"text-align: right;\">\n",
       "      <th></th>\n",
       "      <th>dialogue</th>\n",
       "      <th>genres</th>\n",
       "      <th>cleaned</th>\n",
       "      <th>score</th>\n",
       "      <th>pred</th>\n",
       "    </tr>\n",
       "  </thead>\n",
       "  <tbody>\n",
       "    <tr>\n",
       "      <th>14788</th>\n",
       "      <td>Took 'em out with a heat seeker. &lt;BR&gt; There's ...</td>\n",
       "      <td>[0, 17]</td>\n",
       "      <td>took 'em out with a heat seeker br there's som...</td>\n",
       "      <td>0.0</td>\n",
       "      <td>[6, 13]</td>\n",
       "    </tr>\n",
       "    <tr>\n",
       "      <th>16178</th>\n",
       "      <td>A seeding spends its entire life reaching towa...</td>\n",
       "      <td>[0, 17]</td>\n",
       "      <td>a seeding spends its entire life reaching towa...</td>\n",
       "      <td>0.0</td>\n",
       "      <td>[1, 15]</td>\n",
       "    </tr>\n",
       "    <tr>\n",
       "      <th>27176</th>\n",
       "      <td>Shhh... It's okay. &lt;BR&gt; Ray have you been here...</td>\n",
       "      <td>[4]</td>\n",
       "      <td>shhh it's okay br ray have you been here all t...</td>\n",
       "      <td>0.0</td>\n",
       "      <td>[6]</td>\n",
       "    </tr>\n",
       "    <tr>\n",
       "      <th>31057</th>\n",
       "      <td>Jack I'm as conniving as they come but a sneak...</td>\n",
       "      <td>[9, 17]</td>\n",
       "      <td>jack i'm as conniving as they come but a sneak...</td>\n",
       "      <td>0.0</td>\n",
       "      <td>[6, 14]</td>\n",
       "    </tr>\n",
       "    <tr>\n",
       "      <th>7270</th>\n",
       "      <td>You sure you didn't pick up my hair tie? &lt;BR&gt; ...</td>\n",
       "      <td>[17]</td>\n",
       "      <td>you sure you didn't pick up my hair tie br hel...</td>\n",
       "      <td>0.0</td>\n",
       "      <td>[4, 6, 14]</td>\n",
       "    </tr>\n",
       "    <tr>\n",
       "      <th>13366</th>\n",
       "      <td>Ask me? &lt;BR&gt; Ask Jack. It's his old stamping g...</td>\n",
       "      <td>[5, 17]</td>\n",
       "      <td>ask me br ask jack it's his old stamping ground</td>\n",
       "      <td>0.0</td>\n",
       "      <td>[14]</td>\n",
       "    </tr>\n",
       "    <tr>\n",
       "      <th>36223</th>\n",
       "      <td>I'll tell Mike I'm sick. There's a game tonigh...</td>\n",
       "      <td>[17]</td>\n",
       "      <td>i'll tell mike i'm sick there's a game tonight...</td>\n",
       "      <td>0.0</td>\n",
       "      <td>[6, 14]</td>\n",
       "    </tr>\n",
       "    <tr>\n",
       "      <th>21936</th>\n",
       "      <td>Fag. &lt;BR&gt; C'mon man like you really thought yo...</td>\n",
       "      <td>[17]</td>\n",
       "      <td>fag br c'mon man like you really thought you w...</td>\n",
       "      <td>0.0</td>\n",
       "      <td>[6]</td>\n",
       "    </tr>\n",
       "    <tr>\n",
       "      <th>14381</th>\n",
       "      <td>Paraffin came up positive. And bullet holes ar...</td>\n",
       "      <td>[0, 5]</td>\n",
       "      <td>paraffin came up positive and bullet holes are...</td>\n",
       "      <td>0.0</td>\n",
       "      <td>[4, 17]</td>\n",
       "    </tr>\n",
       "    <tr>\n",
       "      <th>35866</th>\n",
       "      <td>This was taken when Richter was arrested in Wa...</td>\n",
       "      <td>[5]</td>\n",
       "      <td>this was taken when richter was arrested in wa...</td>\n",
       "      <td>0.0</td>\n",
       "      <td>[6, 17]</td>\n",
       "    </tr>\n",
       "    <tr>\n",
       "      <th>13314</th>\n",
       "      <td>That isn't magic. &lt;BR&gt; What? &lt;BR&gt; You just kep...</td>\n",
       "      <td>[13, 17]</td>\n",
       "      <td>that isn't magic br what br you just kept the ...</td>\n",
       "      <td>0.0</td>\n",
       "      <td>[6]</td>\n",
       "    </tr>\n",
       "    <tr>\n",
       "      <th>23807</th>\n",
       "      <td>He's writing. Hello? &lt;BR&gt; If you're selling Gi...</td>\n",
       "      <td>[4, 14]</td>\n",
       "      <td>he's writing hello br if you're selling girl s...</td>\n",
       "      <td>0.0</td>\n",
       "      <td>[6]</td>\n",
       "    </tr>\n",
       "    <tr>\n",
       "      <th>1303</th>\n",
       "      <td>I got the early edition!  It was just dropped ...</td>\n",
       "      <td>[4]</td>\n",
       "      <td>i got the early edition it was just dropped of...</td>\n",
       "      <td>0.0</td>\n",
       "      <td>[6]</td>\n",
       "    </tr>\n",
       "    <tr>\n",
       "      <th>12971</th>\n",
       "      <td>'In the still...still of the ni-ight...I held ...</td>\n",
       "      <td>[6]</td>\n",
       "      <td>'in the still still of the ni ight i held you ...</td>\n",
       "      <td>0.0</td>\n",
       "      <td>[0, 17]</td>\n",
       "    </tr>\n",
       "    <tr>\n",
       "      <th>23883</th>\n",
       "      <td>You know what? Im not having this conversatio...</td>\n",
       "      <td>[4]</td>\n",
       "      <td>you know what i m not having this conversation...</td>\n",
       "      <td>0.0</td>\n",
       "      <td>[5, 17]</td>\n",
       "    </tr>\n",
       "    <tr>\n",
       "      <th>3001</th>\n",
       "      <td>You stupid son of a... &lt;BR&gt; No point in arguin...</td>\n",
       "      <td>[0]</td>\n",
       "      <td>you stupid son of a br no point in arguing any...</td>\n",
       "      <td>0.0</td>\n",
       "      <td>[4, 6, 17]</td>\n",
       "    </tr>\n",
       "    <tr>\n",
       "      <th>3028</th>\n",
       "      <td>Oh -- &lt;BR&gt; Oh see - I killed it. Oh I killed t...</td>\n",
       "      <td>[7, 8]</td>\n",
       "      <td>oh br oh see i killed it oh i killed that poor...</td>\n",
       "      <td>0.0</td>\n",
       "      <td>[4]</td>\n",
       "    </tr>\n",
       "    <tr>\n",
       "      <th>926</th>\n",
       "      <td>Noooooooooooooo! &lt;BR&gt; Where did you learn to s...</td>\n",
       "      <td>[0, 5]</td>\n",
       "      <td>noooooooooooooo br where did you learn to shoot</td>\n",
       "      <td>0.0</td>\n",
       "      <td>[17]</td>\n",
       "    </tr>\n",
       "    <tr>\n",
       "      <th>29158</th>\n",
       "      <td>I'm sorry to hear that. What were they psychos...</td>\n",
       "      <td>[5]</td>\n",
       "      <td>i'm sorry to hear that what were they psychos ...</td>\n",
       "      <td>0.0</td>\n",
       "      <td>[6, 17]</td>\n",
       "    </tr>\n",
       "    <tr>\n",
       "      <th>24298</th>\n",
       "      <td>Nothing wrong with ketchup. &lt;BR&gt; Jon Osterman ...</td>\n",
       "      <td>[13, 15]</td>\n",
       "      <td>nothing wrong with ketchup br jon osterman you...</td>\n",
       "      <td>0.0</td>\n",
       "      <td>[6]</td>\n",
       "    </tr>\n",
       "    <tr>\n",
       "      <th>22093</th>\n",
       "      <td>You ought to put a bandage on that. &lt;BR&gt; No ca...</td>\n",
       "      <td>[5]</td>\n",
       "      <td>you ought to put a bandage on that br no can d...</td>\n",
       "      <td>0.0</td>\n",
       "      <td>[6, 17]</td>\n",
       "    </tr>\n",
       "    <tr>\n",
       "      <th>2532</th>\n",
       "      <td>Why tell me this? &lt;BR&gt; The other plate is curr...</td>\n",
       "      <td>[0, 5]</td>\n",
       "      <td>why tell me this br the other plate is current...</td>\n",
       "      <td>0.0</td>\n",
       "      <td>[6, 13, 17]</td>\n",
       "    </tr>\n",
       "    <tr>\n",
       "      <th>34303</th>\n",
       "      <td>You've heard of the PEM114... &lt;BR&gt; That a new ...</td>\n",
       "      <td>[0, 1, 5]</td>\n",
       "      <td>you've heard of the pem br that a new datsun</td>\n",
       "      <td>0.0</td>\n",
       "      <td>[17]</td>\n",
       "    </tr>\n",
       "    <tr>\n",
       "      <th>4981</th>\n",
       "      <td>Sir you threw out page two. &lt;BR&gt; Goddamn right...</td>\n",
       "      <td>[6, 17]</td>\n",
       "      <td>sir you threw out page two br goddamn right i ...</td>\n",
       "      <td>0.0</td>\n",
       "      <td>[0, 4]</td>\n",
       "    </tr>\n",
       "    <tr>\n",
       "      <th>31959</th>\n",
       "      <td>Well  what seems to be the trouble? &lt;BR&gt; They'...</td>\n",
       "      <td>[1, 4]</td>\n",
       "      <td>well what seems to be the trouble br they're d...</td>\n",
       "      <td>0.0</td>\n",
       "      <td>[6, 14]</td>\n",
       "    </tr>\n",
       "    <tr>\n",
       "      <th>8213</th>\n",
       "      <td>You got no business snoopin' around -- &lt;BR&gt; Me...</td>\n",
       "      <td>[0, 14]</td>\n",
       "      <td>you got no business snoopin' around br me snoo...</td>\n",
       "      <td>0.0</td>\n",
       "      <td>[5, 17]</td>\n",
       "    </tr>\n",
       "    <tr>\n",
       "      <th>10203</th>\n",
       "      <td>You're late. I've got some good news and some ...</td>\n",
       "      <td>[0, 5]</td>\n",
       "      <td>you're late i've got some good news and some g...</td>\n",
       "      <td>0.0</td>\n",
       "      <td>[6, 17]</td>\n",
       "    </tr>\n",
       "    <tr>\n",
       "      <th>24603</th>\n",
       "      <td>Exactly  So you going to Bogey Lowenbrau's thi...</td>\n",
       "      <td>[4, 14]</td>\n",
       "      <td>exactly so you going to bogey lowenbrau's thin...</td>\n",
       "      <td>0.0</td>\n",
       "      <td>[0, 6]</td>\n",
       "    </tr>\n",
       "    <tr>\n",
       "      <th>9154</th>\n",
       "      <td>After their initial investment in the factory,...</td>\n",
       "      <td>[0]</td>\n",
       "      <td>after their initial investment in the factory ...</td>\n",
       "      <td>0.0</td>\n",
       "      <td>[17]</td>\n",
       "    </tr>\n",
       "    <tr>\n",
       "      <th>35416</th>\n",
       "      <td>Mug sheets. &lt;BR&gt; I remember what he looks like...</td>\n",
       "      <td>[0, 15]</td>\n",
       "      <td>mug sheets br i remember what he looks like i ...</td>\n",
       "      <td>0.0</td>\n",
       "      <td>[17]</td>\n",
       "    </tr>\n",
       "    <tr>\n",
       "      <th>...</th>\n",
       "      <td>...</td>\n",
       "      <td>...</td>\n",
       "      <td>...</td>\n",
       "      <td>...</td>\n",
       "      <td>...</td>\n",
       "    </tr>\n",
       "    <tr>\n",
       "      <th>11617</th>\n",
       "      <td>Wait  &lt;BR&gt; No - really I can see them -- th...</td>\n",
       "      <td>[10, 17]</td>\n",
       "      <td>wait br no really i can see them they're comin...</td>\n",
       "      <td>0.0</td>\n",
       "      <td>[4, 15]</td>\n",
       "    </tr>\n",
       "    <tr>\n",
       "      <th>33915</th>\n",
       "      <td>A girl of some spirit your daughter. &lt;BR&gt; A ma...</td>\n",
       "      <td>[0, 1]</td>\n",
       "      <td>a girl of some spirit your daughter br a match...</td>\n",
       "      <td>0.0</td>\n",
       "      <td>[6, 17]</td>\n",
       "    </tr>\n",
       "    <tr>\n",
       "      <th>32087</th>\n",
       "      <td>Storm season? &lt;BR&gt; It's our version of winter....</td>\n",
       "      <td>[10, 17]</td>\n",
       "      <td>storm season br it's our version of winter and...</td>\n",
       "      <td>0.0</td>\n",
       "      <td>[0, 1]</td>\n",
       "    </tr>\n",
       "    <tr>\n",
       "      <th>10436</th>\n",
       "      <td>That sweet madman -- how could he come to exis...</td>\n",
       "      <td>[0, 15]</td>\n",
       "      <td>that sweet madman how could he come to exist b...</td>\n",
       "      <td>0.0</td>\n",
       "      <td>[6, 17]</td>\n",
       "    </tr>\n",
       "    <tr>\n",
       "      <th>9233</th>\n",
       "      <td>I'll be in to read you a story. &lt;BR&gt; Good nigh...</td>\n",
       "      <td>[17]</td>\n",
       "      <td>i'll be in to read you a story br good night d...</td>\n",
       "      <td>0.0</td>\n",
       "      <td>[6]</td>\n",
       "    </tr>\n",
       "    <tr>\n",
       "      <th>19784</th>\n",
       "      <td>Moloko-plus. &lt;BR&gt; Something to sharpen us up y...</td>\n",
       "      <td>[5, 15]</td>\n",
       "      <td>moloko plus br something to sharpen us up you ...</td>\n",
       "      <td>0.0</td>\n",
       "      <td>[0]</td>\n",
       "    </tr>\n",
       "    <tr>\n",
       "      <th>25583</th>\n",
       "      <td>We'll get something as soon as we get to the h...</td>\n",
       "      <td>[10, 17]</td>\n",
       "      <td>we'll get something as soon as we get to the h...</td>\n",
       "      <td>0.0</td>\n",
       "      <td>[4]</td>\n",
       "    </tr>\n",
       "    <tr>\n",
       "      <th>32617</th>\n",
       "      <td>Why are they doing this? &lt;BR&gt; Are you kidding?...</td>\n",
       "      <td>[13, 17]</td>\n",
       "      <td>why are they doing this br are you kidding thi...</td>\n",
       "      <td>0.0</td>\n",
       "      <td>[4, 6]</td>\n",
       "    </tr>\n",
       "    <tr>\n",
       "      <th>35714</th>\n",
       "      <td>Exactly.  And you did have a 'relationship' wi...</td>\n",
       "      <td>[1, 13, 15]</td>\n",
       "      <td>exactly and you did have a 'relationship' with...</td>\n",
       "      <td>0.0</td>\n",
       "      <td>[0, 5, 17]</td>\n",
       "    </tr>\n",
       "    <tr>\n",
       "      <th>13115</th>\n",
       "      <td>Jack isn't that Fred Bliffert over there in th...</td>\n",
       "      <td>[4, 14]</td>\n",
       "      <td>jack isn't that fred bliffert over there in th...</td>\n",
       "      <td>0.0</td>\n",
       "      <td>[0, 6]</td>\n",
       "    </tr>\n",
       "    <tr>\n",
       "      <th>16253</th>\n",
       "      <td>Is there a problem here? &lt;BR&gt; Where there's a ...</td>\n",
       "      <td>[13, 17]</td>\n",
       "      <td>is there a problem here br where there's a wil...</td>\n",
       "      <td>0.0</td>\n",
       "      <td>[1, 15]</td>\n",
       "    </tr>\n",
       "    <tr>\n",
       "      <th>4739</th>\n",
       "      <td>Ain't that cute?  They got his and her Pig-ass...</td>\n",
       "      <td>[13, 17]</td>\n",
       "      <td>ain't that cute they got his and her pig assos...</td>\n",
       "      <td>0.0</td>\n",
       "      <td>[5, 6]</td>\n",
       "    </tr>\n",
       "    <tr>\n",
       "      <th>8832</th>\n",
       "      <td>I think it's worth a look. Don't worry Number ...</td>\n",
       "      <td>[0, 17]</td>\n",
       "      <td>i think it's worth a look don't worry number o...</td>\n",
       "      <td>0.0</td>\n",
       "      <td>[6, 15]</td>\n",
       "    </tr>\n",
       "    <tr>\n",
       "      <th>29790</th>\n",
       "      <td>How you guys doing? &lt;BR&gt; It's on. &lt;BR&gt; Which o...</td>\n",
       "      <td>[4]</td>\n",
       "      <td>how you guys doing br it's on br which one br ...</td>\n",
       "      <td>0.0</td>\n",
       "      <td>[0, 17]</td>\n",
       "    </tr>\n",
       "    <tr>\n",
       "      <th>13131</th>\n",
       "      <td>I call right?  I say I got the dreaded thirty ...</td>\n",
       "      <td>[5]</td>\n",
       "      <td>i call right i say i got the dreaded thirty si...</td>\n",
       "      <td>0.0</td>\n",
       "      <td>[4, 6]</td>\n",
       "    </tr>\n",
       "    <tr>\n",
       "      <th>23003</th>\n",
       "      <td>Thank you. &lt;BR&gt; Okay. I'll copy it. &lt;BR&gt; Okay ...</td>\n",
       "      <td>[5, 17]</td>\n",
       "      <td>thank you br okay i'll copy it br okay thank you</td>\n",
       "      <td>0.0</td>\n",
       "      <td>[4, 6, 14]</td>\n",
       "    </tr>\n",
       "    <tr>\n",
       "      <th>35770</th>\n",
       "      <td>Look what the cat dragged in. &lt;BR&gt; Holy shit D...</td>\n",
       "      <td>[3, 5]</td>\n",
       "      <td>look what the cat dragged in br holy shit dull...</td>\n",
       "      <td>0.0</td>\n",
       "      <td>[0, 4, 17]</td>\n",
       "    </tr>\n",
       "    <tr>\n",
       "      <th>35536</th>\n",
       "      <td>Told you you wouldn't be able to see through t...</td>\n",
       "      <td>[5, 13]</td>\n",
       "      <td>told you you wouldn't be able to see through t...</td>\n",
       "      <td>0.0</td>\n",
       "      <td>[6, 17]</td>\n",
       "    </tr>\n",
       "    <tr>\n",
       "      <th>7161</th>\n",
       "      <td>Don't defend that horse's ass to me. &lt;BR&gt; I'm ...</td>\n",
       "      <td>[4]</td>\n",
       "      <td>don't defend that horse's ass to me br i'm not...</td>\n",
       "      <td>0.0</td>\n",
       "      <td>[6, 14]</td>\n",
       "    </tr>\n",
       "    <tr>\n",
       "      <th>36251</th>\n",
       "      <td>We lived in northern Minnesota. She went for a...</td>\n",
       "      <td>[10]</td>\n",
       "      <td>we lived in northern minnesota she went for a ...</td>\n",
       "      <td>0.0</td>\n",
       "      <td>[17]</td>\n",
       "    </tr>\n",
       "    <tr>\n",
       "      <th>31712</th>\n",
       "      <td>What about you?  You're not coming? &lt;BR&gt; After...</td>\n",
       "      <td>[0, 10, 17]</td>\n",
       "      <td>what about you you're not coming br after last...</td>\n",
       "      <td>0.0</td>\n",
       "      <td>[4, 5]</td>\n",
       "    </tr>\n",
       "    <tr>\n",
       "      <th>35022</th>\n",
       "      <td>I'm sorry.  Were you on your way out? &lt;BR&gt; No ...</td>\n",
       "      <td>[0, 1, 4]</td>\n",
       "      <td>i'm sorry were you on your way out br no i jus...</td>\n",
       "      <td>0.0</td>\n",
       "      <td>[14, 17]</td>\n",
       "    </tr>\n",
       "    <tr>\n",
       "      <th>20854</th>\n",
       "      <td>Like all this. &lt;BR&gt; I'd like to have lived her...</td>\n",
       "      <td>[13, 17]</td>\n",
       "      <td>like all this br i'd like to have lived here t...</td>\n",
       "      <td>0.0</td>\n",
       "      <td>[0, 15]</td>\n",
       "    </tr>\n",
       "    <tr>\n",
       "      <th>29269</th>\n",
       "      <td>Why there she is!  Of course she's home.  Stup...</td>\n",
       "      <td>[4, 14]</td>\n",
       "      <td>why there she is of course she's home stupid o...</td>\n",
       "      <td>0.0</td>\n",
       "      <td>[6]</td>\n",
       "    </tr>\n",
       "    <tr>\n",
       "      <th>10944</th>\n",
       "      <td>Excuse me? &lt;BR&gt; Come over around seven. &lt;BR&gt; O...</td>\n",
       "      <td>[4]</td>\n",
       "      <td>excuse me br come over around seven br o'clock...</td>\n",
       "      <td>0.0</td>\n",
       "      <td>[6, 14]</td>\n",
       "    </tr>\n",
       "    <tr>\n",
       "      <th>24482</th>\n",
       "      <td>You said something before...about laying him t...</td>\n",
       "      <td>[10, 17]</td>\n",
       "      <td>you said something before about laying him to ...</td>\n",
       "      <td>0.0</td>\n",
       "      <td>[0, 15]</td>\n",
       "    </tr>\n",
       "    <tr>\n",
       "      <th>26403</th>\n",
       "      <td>Well? &lt;BR&gt; If she is the machine works. &lt;BR&gt; T...</td>\n",
       "      <td>[15, 17]</td>\n",
       "      <td>well br if she is the machine works br the mac...</td>\n",
       "      <td>0.0</td>\n",
       "      <td>[6]</td>\n",
       "    </tr>\n",
       "    <tr>\n",
       "      <th>36643</th>\n",
       "      <td>Wait!  You know we'll never make it through th...</td>\n",
       "      <td>[1, 15]</td>\n",
       "      <td>wait you know we'll never make it through the ...</td>\n",
       "      <td>0.0</td>\n",
       "      <td>[6]</td>\n",
       "    </tr>\n",
       "    <tr>\n",
       "      <th>3702</th>\n",
       "      <td>Like it?  It's a masterpiece.  I've never seen...</td>\n",
       "      <td>[4]</td>\n",
       "      <td>like it it's a masterpiece i've never seen any...</td>\n",
       "      <td>0.0</td>\n",
       "      <td>[6, 17]</td>\n",
       "    </tr>\n",
       "    <tr>\n",
       "      <th>15836</th>\n",
       "      <td>Really? &lt;BR&gt; I didn't want to find out I wasn'...</td>\n",
       "      <td>[4, 14]</td>\n",
       "      <td>really br i didn't want to find out i wasn't f...</td>\n",
       "      <td>0.0</td>\n",
       "      <td>[13, 17]</td>\n",
       "    </tr>\n",
       "  </tbody>\n",
       "</table>\n",
       "<p>439 rows × 5 columns</p>\n",
       "</div>"
      ],
      "text/plain": [
       "                                                dialogue       genres  \\\n",
       "14788  Took 'em out with a heat seeker. <BR> There's ...      [0, 17]   \n",
       "16178  A seeding spends its entire life reaching towa...      [0, 17]   \n",
       "27176  Shhh... It's okay. <BR> Ray have you been here...          [4]   \n",
       "31057  Jack I'm as conniving as they come but a sneak...      [9, 17]   \n",
       "7270   You sure you didn't pick up my hair tie? <BR> ...         [17]   \n",
       "13366  Ask me? <BR> Ask Jack. It's his old stamping g...      [5, 17]   \n",
       "36223  I'll tell Mike I'm sick. There's a game tonigh...         [17]   \n",
       "21936  Fag. <BR> C'mon man like you really thought yo...         [17]   \n",
       "14381  Paraffin came up positive. And bullet holes ar...       [0, 5]   \n",
       "35866  This was taken when Richter was arrested in Wa...          [5]   \n",
       "13314  That isn't magic. <BR> What? <BR> You just kep...     [13, 17]   \n",
       "23807  He's writing. Hello? <BR> If you're selling Gi...      [4, 14]   \n",
       "1303   I got the early edition!  It was just dropped ...          [4]   \n",
       "12971  'In the still...still of the ni-ight...I held ...          [6]   \n",
       "23883  You know what? Im not having this conversatio...          [4]   \n",
       "3001   You stupid son of a... <BR> No point in arguin...          [0]   \n",
       "3028   Oh -- <BR> Oh see - I killed it. Oh I killed t...       [7, 8]   \n",
       "926    Noooooooooooooo! <BR> Where did you learn to s...       [0, 5]   \n",
       "29158  I'm sorry to hear that. What were they psychos...          [5]   \n",
       "24298  Nothing wrong with ketchup. <BR> Jon Osterman ...     [13, 15]   \n",
       "22093  You ought to put a bandage on that. <BR> No ca...          [5]   \n",
       "2532   Why tell me this? <BR> The other plate is curr...       [0, 5]   \n",
       "34303  You've heard of the PEM114... <BR> That a new ...    [0, 1, 5]   \n",
       "4981   Sir you threw out page two. <BR> Goddamn right...      [6, 17]   \n",
       "31959  Well  what seems to be the trouble? <BR> They'...       [1, 4]   \n",
       "8213   You got no business snoopin' around -- <BR> Me...      [0, 14]   \n",
       "10203  You're late. I've got some good news and some ...       [0, 5]   \n",
       "24603  Exactly  So you going to Bogey Lowenbrau's thi...      [4, 14]   \n",
       "9154   After their initial investment in the factory,...          [0]   \n",
       "35416  Mug sheets. <BR> I remember what he looks like...      [0, 15]   \n",
       "...                                                  ...          ...   \n",
       "11617  Wait  <BR> No - really I can see them -- th...     [10, 17]   \n",
       "33915  A girl of some spirit your daughter. <BR> A ma...       [0, 1]   \n",
       "32087  Storm season? <BR> It's our version of winter....     [10, 17]   \n",
       "10436  That sweet madman -- how could he come to exis...      [0, 15]   \n",
       "9233   I'll be in to read you a story. <BR> Good nigh...         [17]   \n",
       "19784  Moloko-plus. <BR> Something to sharpen us up y...      [5, 15]   \n",
       "25583  We'll get something as soon as we get to the h...     [10, 17]   \n",
       "32617  Why are they doing this? <BR> Are you kidding?...     [13, 17]   \n",
       "35714  Exactly.  And you did have a 'relationship' wi...  [1, 13, 15]   \n",
       "13115  Jack isn't that Fred Bliffert over there in th...      [4, 14]   \n",
       "16253  Is there a problem here? <BR> Where there's a ...     [13, 17]   \n",
       "4739   Ain't that cute?  They got his and her Pig-ass...     [13, 17]   \n",
       "8832   I think it's worth a look. Don't worry Number ...      [0, 17]   \n",
       "29790  How you guys doing? <BR> It's on. <BR> Which o...          [4]   \n",
       "13131  I call right?  I say I got the dreaded thirty ...          [5]   \n",
       "23003  Thank you. <BR> Okay. I'll copy it. <BR> Okay ...      [5, 17]   \n",
       "35770  Look what the cat dragged in. <BR> Holy shit D...       [3, 5]   \n",
       "35536  Told you you wouldn't be able to see through t...      [5, 13]   \n",
       "7161   Don't defend that horse's ass to me. <BR> I'm ...          [4]   \n",
       "36251  We lived in northern Minnesota. She went for a...         [10]   \n",
       "31712  What about you?  You're not coming? <BR> After...  [0, 10, 17]   \n",
       "35022  I'm sorry.  Were you on your way out? <BR> No ...    [0, 1, 4]   \n",
       "20854  Like all this. <BR> I'd like to have lived her...     [13, 17]   \n",
       "29269  Why there she is!  Of course she's home.  Stup...      [4, 14]   \n",
       "10944  Excuse me? <BR> Come over around seven. <BR> O...          [4]   \n",
       "24482  You said something before...about laying him t...     [10, 17]   \n",
       "26403  Well? <BR> If she is the machine works. <BR> T...     [15, 17]   \n",
       "36643  Wait!  You know we'll never make it through th...      [1, 15]   \n",
       "3702   Like it?  It's a masterpiece.  I've never seen...          [4]   \n",
       "15836  Really? <BR> I didn't want to find out I wasn'...      [4, 14]   \n",
       "\n",
       "                                                 cleaned  score         pred  \n",
       "14788  took 'em out with a heat seeker br there's som...    0.0      [6, 13]  \n",
       "16178  a seeding spends its entire life reaching towa...    0.0      [1, 15]  \n",
       "27176  shhh it's okay br ray have you been here all t...    0.0          [6]  \n",
       "31057  jack i'm as conniving as they come but a sneak...    0.0      [6, 14]  \n",
       "7270   you sure you didn't pick up my hair tie br hel...    0.0   [4, 6, 14]  \n",
       "13366    ask me br ask jack it's his old stamping ground    0.0         [14]  \n",
       "36223  i'll tell mike i'm sick there's a game tonight...    0.0      [6, 14]  \n",
       "21936  fag br c'mon man like you really thought you w...    0.0          [6]  \n",
       "14381  paraffin came up positive and bullet holes are...    0.0      [4, 17]  \n",
       "35866  this was taken when richter was arrested in wa...    0.0      [6, 17]  \n",
       "13314  that isn't magic br what br you just kept the ...    0.0          [6]  \n",
       "23807  he's writing hello br if you're selling girl s...    0.0          [6]  \n",
       "1303   i got the early edition it was just dropped of...    0.0          [6]  \n",
       "12971  'in the still still of the ni ight i held you ...    0.0      [0, 17]  \n",
       "23883  you know what i m not having this conversation...    0.0      [5, 17]  \n",
       "3001   you stupid son of a br no point in arguing any...    0.0   [4, 6, 17]  \n",
       "3028   oh br oh see i killed it oh i killed that poor...    0.0          [4]  \n",
       "926      noooooooooooooo br where did you learn to shoot    0.0         [17]  \n",
       "29158  i'm sorry to hear that what were they psychos ...    0.0      [6, 17]  \n",
       "24298  nothing wrong with ketchup br jon osterman you...    0.0          [6]  \n",
       "22093  you ought to put a bandage on that br no can d...    0.0      [6, 17]  \n",
       "2532   why tell me this br the other plate is current...    0.0  [6, 13, 17]  \n",
       "34303       you've heard of the pem br that a new datsun    0.0         [17]  \n",
       "4981   sir you threw out page two br goddamn right i ...    0.0       [0, 4]  \n",
       "31959  well what seems to be the trouble br they're d...    0.0      [6, 14]  \n",
       "8213   you got no business snoopin' around br me snoo...    0.0      [5, 17]  \n",
       "10203  you're late i've got some good news and some g...    0.0      [6, 17]  \n",
       "24603  exactly so you going to bogey lowenbrau's thin...    0.0       [0, 6]  \n",
       "9154   after their initial investment in the factory ...    0.0         [17]  \n",
       "35416  mug sheets br i remember what he looks like i ...    0.0         [17]  \n",
       "...                                                  ...    ...          ...  \n",
       "11617  wait br no really i can see them they're comin...    0.0      [4, 15]  \n",
       "33915  a girl of some spirit your daughter br a match...    0.0      [6, 17]  \n",
       "32087  storm season br it's our version of winter and...    0.0       [0, 1]  \n",
       "10436  that sweet madman how could he come to exist b...    0.0      [6, 17]  \n",
       "9233   i'll be in to read you a story br good night d...    0.0          [6]  \n",
       "19784  moloko plus br something to sharpen us up you ...    0.0          [0]  \n",
       "25583  we'll get something as soon as we get to the h...    0.0          [4]  \n",
       "32617  why are they doing this br are you kidding thi...    0.0       [4, 6]  \n",
       "35714  exactly and you did have a 'relationship' with...    0.0   [0, 5, 17]  \n",
       "13115  jack isn't that fred bliffert over there in th...    0.0       [0, 6]  \n",
       "16253  is there a problem here br where there's a wil...    0.0      [1, 15]  \n",
       "4739   ain't that cute they got his and her pig assos...    0.0       [5, 6]  \n",
       "8832   i think it's worth a look don't worry number o...    0.0      [6, 15]  \n",
       "29790  how you guys doing br it's on br which one br ...    0.0      [0, 17]  \n",
       "13131  i call right i say i got the dreaded thirty si...    0.0       [4, 6]  \n",
       "23003   thank you br okay i'll copy it br okay thank you    0.0   [4, 6, 14]  \n",
       "35770  look what the cat dragged in br holy shit dull...    0.0   [0, 4, 17]  \n",
       "35536  told you you wouldn't be able to see through t...    0.0      [6, 17]  \n",
       "7161   don't defend that horse's ass to me br i'm not...    0.0      [6, 14]  \n",
       "36251  we lived in northern minnesota she went for a ...    0.0         [17]  \n",
       "31712  what about you you're not coming br after last...    0.0       [4, 5]  \n",
       "35022  i'm sorry were you on your way out br no i jus...    0.0     [14, 17]  \n",
       "20854  like all this br i'd like to have lived here t...    0.0      [0, 15]  \n",
       "29269  why there she is of course she's home stupid o...    0.0          [6]  \n",
       "10944  excuse me br come over around seven br o'clock...    0.0      [6, 14]  \n",
       "24482  you said something before about laying him to ...    0.0      [0, 15]  \n",
       "26403  well br if she is the machine works br the mac...    0.0          [6]  \n",
       "36643  wait you know we'll never make it through the ...    0.0          [6]  \n",
       "3702   like it it's a masterpiece i've never seen any...    0.0      [6, 17]  \n",
       "15836  really br i didn't want to find out i wasn't f...    0.0     [13, 17]  \n",
       "\n",
       "[439 rows x 5 columns]"
      ]
     },
     "execution_count": 113,
     "metadata": {},
     "output_type": "execute_result"
    }
   ],
   "source": [
    "valid_X[valid_X.score < 0.2]"
   ]
  },
  {
   "cell_type": "code",
   "execution_count": 114,
   "metadata": {},
   "outputs": [],
   "source": [
    "pred = pipeline.predict_proba(test.cleaned)\n",
    "pred_max = np.argmax(pred, axis=1)\n",
    "result = [0] * len(pred)\n",
    "for i in range(len(pred)):\n",
    "    pred[i, pred_max[i]] = 0.5\n",
    "    result[i] = le.classes_[pred[i] > 0.15]"
   ]
  },
  {
   "cell_type": "code",
   "execution_count": 115,
   "metadata": {},
   "outputs": [],
   "source": [
    "result = [' '.join(x) for x in result]"
   ]
  },
  {
   "cell_type": "code",
   "execution_count": 116,
   "metadata": {},
   "outputs": [],
   "source": [
    "test['genres'] = result"
   ]
  },
  {
   "cell_type": "code",
   "execution_count": 117,
   "metadata": {},
   "outputs": [
    {
     "data": {
      "text/plain": [
       "'We combine everything. You are my second in command. <BR> What about the share. <BR> You get fifteen percent. <BR> I got partners. <BR> Your Calabrian friend I will accept. At least Costello eats pasta like us. <BR> And the Jews? <BR> Share with them as you wish. Do business with them on your own. But no filthy Jew will ever be a brother to me.'"
      ]
     },
     "execution_count": 117,
     "metadata": {},
     "output_type": "execute_result"
    }
   ],
   "source": [
    "test.dialogue[9]"
   ]
  },
  {
   "cell_type": "code",
   "execution_count": 118,
   "metadata": {},
   "outputs": [
    {
     "data": {
      "text/plain": [
       "'we combine everything you are my second in command br what about the share br you get fifteen percent br i got partners br your calabrian friend i will accept at least costello eats pasta like us br and the jews br share with them as you wish do business with them on your own but no filthy jew will ever be a brother to me'"
      ]
     },
     "execution_count": 118,
     "metadata": {},
     "output_type": "execute_result"
    }
   ],
   "source": [
    "test.cleaned[9]"
   ]
  },
  {
   "cell_type": "code",
   "execution_count": 119,
   "metadata": {},
   "outputs": [],
   "source": [
    "test[['id', 'genres']].to_csv('answer_7.csv', index=False)"
   ]
  },
  {
   "cell_type": "code",
   "execution_count": null,
   "metadata": {},
   "outputs": [],
   "source": []
  }
 ],
 "metadata": {
  "kernelspec": {
   "display_name": "Python 3",
   "language": "python",
   "name": "python3"
  },
  "language_info": {
   "codemirror_mode": {
    "name": "ipython",
    "version": 3
   },
   "file_extension": ".py",
   "mimetype": "text/x-python",
   "name": "python",
   "nbconvert_exporter": "python",
   "pygments_lexer": "ipython3",
   "version": "3.5.2"
  }
 },
 "nbformat": 4,
 "nbformat_minor": 2
}
